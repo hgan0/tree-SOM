{
 "cells": [
  {
   "cell_type": "code",
   "execution_count": 1,
   "id": "55304c58-0ef1-4dfc-8fc2-b4078ea64111",
   "metadata": {},
   "outputs": [],
   "source": [
    "import numpy as np\n",
    "import matplotlib.pyplot as plt\n",
    "from matplotlib import style\n",
    "import matplotlib.ticker\n",
    "import matplotlib.ticker as ticker\n",
    "from matplotlib.ticker import AutoMinorLocator\n",
    "from pylab import *\n",
    "import os.path\n",
    "import tables\n",
    "\n",
    "import matplotlib.cm as cm\n",
    "from matplotlib.colors import LogNorm\n",
    "import matplotlib as mpl\n",
    "from scipy.signal import butter, lfilter\n",
    "from astropy.io import fits\n",
    "from scipy import ndimage as ndi\n",
    "from scipy import stats\n",
    "from collections import OrderedDict\n",
    "\n",
    "import sys; sys.path.insert(0, '/home/hgan/ch-env/code/minisom/')\n",
    "import minisom # store_load is a file on my library folder\n",
    "from minisom import MiniSom    \n",
    "\n",
    "import pandas as pd\n",
    "#import sys; sys.path.insert(0, '/home/hgan/ch-env/code/seaborn')\n",
    "import seaborn as sn\n",
    "\n",
    "import time\n",
    "import scipy\n",
    "import csv\n",
    "import os\n",
    "import random\n",
    "\n",
    "import copy \n",
    "from matplotlib.colors import ListedColormap\n",
    "from pathlib import Path\n",
    "import sys; sys.path.insert(0, '/home/hgan/ch-env/code/chimedb/')\n",
    "import chimedb\n",
    "from tqdm.notebook import tqdm\n",
    "\n",
    "from mpi4py import MPI\n",
    "\n",
    "import pickle\n"
   ]
  },
  {
   "cell_type": "code",
   "execution_count": 2,
   "id": "878a79f8-b29f-4208-9a11-6ba6cd4f7ca3",
   "metadata": {},
   "outputs": [
    {
     "name": "stdout",
     "output_type": "stream",
     "text": [
      ".........Start loading data sets........\n",
      ".........training finished, start calculating BMUs........\n"
     ]
    }
   ],
   "source": [
    "####### functions \n",
    "\n",
    "def trim_data(tmp):\n",
    "    rep = tmp.replace(' -inf', 0)#np.nan)\n",
    "    rep = rep.replace(' inf', 0) #np.nan)\n",
    "    rep = rep.replace(' -nan ', 0)#np.nan)\n",
    "    rep = rep.replace(' nan ', 0)#np.nan)\n",
    "    rep = rep.replace(np.nan, 0)\n",
    "    rep = rep.astype(float)\n",
    "    return rep \n",
    "   \n",
    "def get_stats(array):\n",
    "    array = np.ma.masked_invalid(array)\n",
    "    return np.sum(array), np.mean(array), np.std(array)\n",
    "   \n",
    "revision = \"rev_07\"      \n",
    "training_no = \"train1\"\n",
    "data_dir = '/project/rpp-chime/hgan/ML-analysis/trees/'+revision+'/'\n",
    "base_directory='/project/rpp-chime/hgan/ML-analysis_rev07/'\n",
    "save_directory = base_directory + training_no+'/'\n",
    "tree_directory = '/project/rpp-chime/hgan/ML-analysis/trees/'+revision+'/'\n",
    "som_directory = base_directory + training_no+'/SOMs/'\n",
    "\n",
    "##### training set\n",
    "\n",
    "daily_processing_path = Path(f\"/project/rpp-chime/hgan/ML-analysis/delaysp/{revision}/\")\n",
    "obs_set = list(daily_processing_path.iterdir())\n",
    "id_set = []\n",
    "\n",
    "for obs in obs_set:\n",
    "    s = str(obs)\n",
    "#    print(s[-8:-4])\n",
    "    try: \n",
    "        id_set.append(int(s[-9:-5]))\n",
    "    except:\n",
    "        continue\n",
    "        \n",
    "id_set = sorted(id_set)\n",
    "\n",
    "###### load training data\n",
    "\n",
    "print('.........Start loading data sets........')\n",
    "\n",
    "sample_percentage = .05 \n",
    "file_names = []\n",
    "\n",
    "ext = ('.csv')\n",
    "  \n",
    "###### training              \n",
    "\n",
    "s_features = [4,5,6,8,9,13,14] #10,11]#,13,14] #[12,13,14,16,17,18,19,20,21]\n",
    "\n",
    "# Initialization\n",
    "m_neurons = 10 \n",
    "n_neurons = 10 \n",
    "\n",
    "sigma = 1.\n",
    "learning_rate = .2 \n",
    "neighborhood_function = 'gaussian'\n",
    "random_seed = 0\n",
    "topology = 'rectangular'\n",
    "activation_distance = 'euclidean'\n",
    "\n",
    "#### Open a SOM\n",
    "with open(save_directory+'som-'+training_no+'.p', 'rb') as infile:\n",
    "    som = pickle.load(infile)\n",
    "    \n",
    "print('.........training finished, start calculating BMUs........')\n",
    "\n",
    "###### calculate BMUs\n",
    "\n",
    "# comm = MPI.COMM_WORLD\n",
    "# rank = comm.Get_rank()\n",
    "# size = comm.Get_size()\n",
    "\n",
    "# a = 0\n",
    "# b = len(id_set) \n",
    "\n",
    "# num_per_rank = b // size # the floor division // rounds the result down to the nearest whole number.\n",
    "\n",
    "# lower_bound = a + rank * num_per_rank\n",
    "# upper_bound = a + (rank + 1) * num_per_rank\n",
    "\n",
    "\n"
   ]
  },
  {
   "cell_type": "code",
   "execution_count": 3,
   "id": "ed9069ce-4fef-491c-8cbb-bce1cca573ad",
   "metadata": {},
   "outputs": [
    {
     "name": "stdout",
     "output_type": "stream",
     "text": [
      "[1868, 1869, 1870, 1871, 1872, 1874, 1878, 1879, 1880, 1885, 1886, 1889, 1890, 1892, 1893, 1894, 1899, 1902, 1903, 1904, 1906, 1907, 1908, 1909, 1910, 1912, 1913, 1914, 1915, 1916, 1917, 1918, 1919, 1920, 1921, 1922, 1924, 1926, 1927, 1928, 1929, 1931, 1932, 1933, 1934, 1935, 1936, 1939, 1955, 1956, 1958, 1959, 1960, 1965, 1966, 1967, 1969, 1970, 1971, 1972, 1974, 1975, 1976, 1977, 1978, 1979, 1980, 1981, 1982, 1983, 1984, 1985, 1988, 1989, 1990, 2012, 2013, 2029, 2030, 2031, 2032, 2033, 2039, 2040, 2041, 2043, 2044, 2045, 2046, 2047, 2059, 2060, 2072, 2073, 2074, 2075, 2077, 2079, 2080, 2081, 2084, 2085, 2086, 2087, 2093, 2094, 2095, 2096, 2097, 2098, 2099, 2105, 2106, 2107, 2108, 2109, 2110, 2111, 2112, 2115, 2116, 2118, 2119, 2120, 2121, 2122, 2123, 2126, 2127, 2132, 2133, 2134, 2135, 2142, 2143, 2163, 2164, 2166, 2167, 2174, 2175, 2179, 2180, 2181, 2182, 2186, 2193, 2207, 2228, 2229, 2242, 2243, 2249, 2256, 2257, 2277, 2278, 2291, 2292, 2299, 2305, 2306, 2320, 2325, 2347, 2348, 2354, 2361, 2375, 2389, 2417, 2424, 2431, 2438, 2445, 2452, 2466, 2473, 2480, 2501, 2502, 2509, 2515, 2516, 2522, 2543, 2544, 2550, 2551, 2557, 2558, 2564, 2578, 2585, 2592, 2599, 2606, 2613, 2620, 2627, 2634, 2641, 2648, 2655, 2662, 2669, 2676, 2683, 2697, 2704, 2711, 2718, 2725, 2732, 2739, 2746, 2753, 2760, 2767, 2774, 2781, 2788, 2802, 2809, 2816, 2823, 2830, 2837, 2844, 2851, 2858, 2865, 2872, 2879, 2886, 2893, 2907, 2914, 2921, 2928, 2935, 2942, 2949, 2956, 2963, 2970, 2977, 2984, 2991, 2998, 3000, 3001, 3005, 3012, 3019, 3026, 3033, 3040, 3047, 3054, 3061, 3068, 3075, 3082, 3089, 3096, 3103, 3110, 3117, 3124, 3131, 3138, 3145, 3152, 3159, 3166, 3173, 3180, 3194, 3201, 3215, 3222, 3229, 3236, 3243, 3250, 3257, 3264, 3271, 3278, 3285, 3292, 3299, 3306, 3313, 3320, 3327, 3334, 3341, 3348, 3355, 3362, 3369, 3376, 3383, 3390, 3397, 3404, 3411, 3418, 3425, 3432, 3439, 3446, 3453, 3460, 3467, 3474, 3515, 3516, 3517, 3518, 3519, 3520, 3521, 3522, 3523, 3524, 3525, 3526, 3527, 3528, 3529, 3530, 3531]\n"
     ]
    }
   ],
   "source": [
    "print(id_set)"
   ]
  },
  {
   "cell_type": "code",
   "execution_count": 4,
   "id": "193e777c-f276-4991-a686-8cf812b013d7",
   "metadata": {},
   "outputs": [
    {
     "ename": "NameError",
     "evalue": "name 'lower_bound' is not defined",
     "output_type": "error",
     "traceback": [
      "\u001b[0;31m---------------------------------------------------------------------------\u001b[0m",
      "\u001b[0;31mNameError\u001b[0m                                 Traceback (most recent call last)",
      "\u001b[0;32m/tmp/ipykernel_131785/4075393844.py\u001b[0m in \u001b[0;36m<module>\u001b[0;34m\u001b[0m\n\u001b[0;32m----> 1\u001b[0;31m \u001b[0mprint\u001b[0m\u001b[0;34m(\u001b[0m\u001b[0mlower_bound\u001b[0m\u001b[0;34m,\u001b[0m \u001b[0mupper_bound\u001b[0m\u001b[0;34m)\u001b[0m\u001b[0;34m\u001b[0m\u001b[0;34m\u001b[0m\u001b[0m\n\u001b[0m",
      "\u001b[0;31mNameError\u001b[0m: name 'lower_bound' is not defined"
     ]
    }
   ],
   "source": [
    "print(lower_bound, upper_bound)"
   ]
  },
  {
   "cell_type": "code",
   "execution_count": 3,
   "id": "d55079ab-5270-4dba-b9b2-3c62df4150bc",
   "metadata": {},
   "outputs": [
    {
     "name": "stdout",
     "output_type": "stream",
     "text": [
      "Calculating....csd1868_tree.csv\n",
      "Calculating....csd1869_tree.csv\n",
      "Calculating....csd1870_tree.csv\n",
      "Calculating....csd1871_tree.csv\n",
      "Calculating....csd1872_tree.csv\n",
      "Calculating....csd1874_tree.csv\n",
      "Calculating....csd1878_tree.csv\n",
      "Calculating....csd1879_tree.csv\n",
      "Calculating....csd1880_tree.csv\n",
      "Calculating....csd1885_tree.csv\n",
      "Calculating....csd1886_tree.csv\n",
      "Calculating....csd1889_tree.csv\n",
      "Calculating....csd1890_tree.csv\n",
      "Calculating....csd1892_tree.csv\n",
      "Calculating....csd1893_tree.csv\n",
      "Calculating....csd1894_tree.csv\n",
      "Calculating....csd1899_tree.csv\n",
      "Calculating....csd1902_tree.csv\n",
      "Calculating....csd1903_tree.csv\n",
      "Calculating....csd1904_tree.csv\n",
      "Calculating....csd1906_tree.csv\n",
      "Calculating....csd1907_tree.csv\n",
      "Calculating....csd1908_tree.csv\n",
      "Calculating....csd1909_tree.csv\n",
      "Calculating....csd1910_tree.csv\n",
      "Calculating....csd1912_tree.csv\n",
      "Calculating....csd1913_tree.csv\n",
      "Calculating....csd1914_tree.csv\n",
      "Calculating....csd1915_tree.csv\n",
      "Calculating....csd1916_tree.csv\n",
      "Calculating....csd1917_tree.csv\n",
      "Calculating....csd1918_tree.csv\n",
      "Calculating....csd1919_tree.csv\n",
      "Calculating....csd1920_tree.csv\n",
      "Calculating....csd1921_tree.csv\n",
      "Calculating....csd1922_tree.csv\n",
      "Calculating....csd1924_tree.csv\n",
      "Calculating....csd1926_tree.csv\n",
      "Calculating....csd1927_tree.csv\n",
      "Calculating....csd1928_tree.csv\n",
      "Calculating....csd1929_tree.csv\n",
      "Calculating....csd1931_tree.csv\n",
      "Calculating....csd1932_tree.csv\n",
      "Calculating....csd1933_tree.csv\n",
      "Calculating....csd1934_tree.csv\n",
      "Calculating....csd1935_tree.csv\n",
      "Calculating....csd1936_tree.csv\n",
      "Calculating....csd1939_tree.csv\n",
      "Calculating....csd1955_tree.csv\n",
      "Calculating....csd1956_tree.csv\n",
      ".......DONE!!!........\n"
     ]
    }
   ],
   "source": [
    "for num_i in range(0, 50):\n",
    "    iid = id_set[num_i]\n",
    "    name = 'csd'+str(iid)+'_tree.csv'\n",
    "    print(\"Calculating....\" + name)\n",
    "    single_data = pd.read_csv(tree_directory + name, sep=',', header=0, low_memory=False) \n",
    "    single_data = trim_data(single_data)\n",
    "    features = np.array(list(single_data.keys()))\n",
    "\n",
    "    n_columns = np.shape(single_data)[-1]\n",
    "    flat_data = []\n",
    "\n",
    "    for i in range(0,len(features)):\n",
    "        flat_data.append(single_data.iloc[:,i].to_numpy())\n",
    "\n",
    "    X = np.array(flat_data)[s_features]\n",
    "    X = np.array(X).T\n",
    "    scaled_X = (X - np.mean(X, axis=0)) / np.std(X, axis=0)  \n",
    "\n",
    "    W = som.get_weights()\n",
    "    w_x, w_y = zip(*[som.winner(d) for d in scaled_X])\n",
    "    w_x = np.array(w_x)\n",
    "    w_y = np.array(w_y)  \n",
    "\n",
    "    map_size=str(n_neurons)+'x'+str(m_neurons)\n",
    "\n",
    "    df2 =  pd.DataFrame({'index': flat_data[0],\n",
    "           'winning_Nx': w_x,\n",
    "           'winning_Ny': w_y,\n",
    "                        })\n",
    "    os.makedirs(som_directory, exist_ok=True)  \n",
    "    df2 = df2.loc[:, ~df2.columns.str.contains('^Unnamed')]\n",
    "    df2 = df2.astype(int)\n",
    "    df2.to_csv(som_directory+str(iid)+'_'+map_size+'SOMs.csv')  \n",
    "\n",
    "print('.......DONE!!!........')"
   ]
  },
  {
   "cell_type": "code",
   "execution_count": 9,
   "id": "a9bdc618-3757-4e0d-85e9-d9a0825b06a1",
   "metadata": {},
   "outputs": [
    {
     "name": "stdout",
     "output_type": "stream",
     "text": [
      "/project/rpp-chime/hgan/ML-analysis_rev07/train1/SOMs/1868_10x10SOMs.csv\n"
     ]
    }
   ],
   "source": [
    "print(som_directory+str(iid)+'_'+map_size+'SOMs.csv')"
   ]
  },
  {
   "cell_type": "code",
   "execution_count": null,
   "id": "19b895ae-c917-4ff7-bc9e-7dc2ab988b0d",
   "metadata": {},
   "outputs": [
    {
     "data": {
      "application/vnd.jupyter.widget-view+json": {
       "model_id": "44f608d920924ac2928ed24a32c8bbb9",
       "version_major": 2,
       "version_minor": 0
      },
      "text/plain": [
       "  0%|          | 0/335 [00:00<?, ?it/s]"
      ]
     },
     "metadata": {},
     "output_type": "display_data"
    },
    {
     "name": "stderr",
     "output_type": "stream",
     "text": [
      "/tmp/ipykernel_257121/610989908.py:64: RuntimeWarning: More than 20 figures have been opened. Figures created through the pyplot interface (`matplotlib.pyplot.figure`) are retained until explicitly closed and may consume too much memory. (To control this warning, see the rcParam `figure.max_open_warning`).\n",
      "  fig, ax = plt.subplots(1, 2, figsize=(9.5, 4.))\n"
     ]
    }
   ],
   "source": [
    "\n",
    "par1 = 'gval'\n",
    "par2 = 'flux'\n",
    "sum_table = pd.DataFrame({\n",
    "                'csd': [],\n",
    "                'winning_Nx': [],\n",
    "                'winning_Ny': [],\n",
    "                'sum_'+par1:[], \n",
    "                'sum_'+par2:[]},    index=[])\n",
    "\n",
    "\n",
    "ext = ('.csv')\n",
    "a = 0\n",
    "\n",
    "lower= 0\n",
    "upper= 335\n",
    "som_size = 10\n",
    "\n",
    "for num_i in tqdm(range(lower, upper)):\n",
    "    obs = id_set[num_i]\n",
    "    attributes = pd.read_csv(tree_directory \n",
    "                             + '/csd'+str(obs)+'_tree.csv', sep=',', header=0, low_memory=False) \n",
    "    winning_neurons = pd.read_csv(som_directory+str(obs)+'_'+map_size+'SOMs.csv',\n",
    "                                  sep=',', header=0, low_memory=False) \n",
    "\n",
    "    flux = pd.DataFrame({\n",
    "                    'winning_Nx': [],\n",
    "                    'winning_Ny': [],\n",
    "                    'sum_par1':[],\n",
    "                    'sum_par2':[]}, index=[])\n",
    "    img_par1 = np.zeros(som_size*som_size).reshape((som_size, som_size))\n",
    "    img_par2 = np.zeros(som_size*som_size).reshape((som_size, som_size))\n",
    "\n",
    "\n",
    "    for nx in range(0,som_size):\n",
    "        for ny in range(0,som_size):\n",
    "            mask1 = winning_neurons['winning_Nx'] == nx\n",
    "            mask2 = winning_neurons['winning_Ny'] == ny\n",
    "\n",
    "            selected1 = attributes[mask1&mask2][' '+par1]\n",
    "            selected2 = attributes[mask1&mask2][' '+par2]\n",
    "\n",
    "            selected1 = np.nan_to_num(selected1)\n",
    "            selected2 = np.nan_to_num(selected2)\n",
    "\n",
    "            selected1 = selected1.astype(float)\n",
    "            selected2 = selected2.astype(float)\n",
    "\n",
    "            sum_par1= selected1.sum(axis = 0)#, skipna = True)\n",
    "            sum_par2= selected2.sum(axis = 0)#, skipna = True)\n",
    "            \n",
    "            img_par1[9-nx,ny] = sum_par1\n",
    "            img_par2[9-nx,ny] = sum_par2\n",
    "\n",
    "\n",
    "            tmp2 =  pd.DataFrame({\n",
    "                'csd': obs,\n",
    "                'winning_Nx': nx,\n",
    "                'winning_Ny': ny,\n",
    "                'sum_'+par1: sum_par1,  \n",
    "                'sum_'+par2: sum_par2}, index=[a])\n",
    "            a = a + 1\n",
    "            sum_table = pd.concat([sum_table,tmp2], ignore_index=True)\n",
    "            \n",
    "    fig, ax = plt.subplots(1, 2, figsize=(9.5, 4.))\n",
    "\n",
    "    im1 = ax[0].imshow((img_par1), extent=[0,som_size,som_size,0])#,  interpolation='none', )\n",
    "                  #  aspect='equal',norm=LogNorm(),\n",
    "                  # vmax=vmax, vmin=vmin,)\n",
    "    ax[0].set_xlabel('Neuron_x')\n",
    "    ax[0].set_ylabel('Neuron_y')\n",
    "    ax[0].set_title(par1)\n",
    "    #cbar = fig.colorbar(im, orientation='vertical',fraction=0.046, pad=0.04)\n",
    "    cbar1 = plt.colorbar(im1, ax=ax[0])\n",
    "    cbar1.set_label(par1)\n",
    "    cbar1.formatter.set_powerlimits((0, 0))\n",
    "\n",
    "    im2 = ax[1].imshow((img_par2), extent=[0,som_size,0,som_size])#,  interpolation='none', )\n",
    "    cbar2 = plt.colorbar(im2, ax=ax[1])\n",
    "    cbar2.set_label(par2)\n",
    "    cbar2.formatter.set_powerlimits((0, 0))\n",
    "    ax[1].set_xlabel('Neuron_x')\n",
    "    ax[1].set_ylabel('Neuron_y')\n",
    "    ax[1].set_title(par2)\n",
    "    os.makedirs(save_directory + 'sum_tables/', exist_ok=True)\n",
    "    fig.suptitle('csd'+str(obs))\n",
    "    fig.subplots_adjust(left=0.08, bottom=0.13, right=0.95, top=0.9, wspace=0.26, hspace=0.1)\n",
    "    fig.savefig(save_directory + 'sum_tables/'+ str(obs)+'_summary.pdf')\n",
    "    fig.clf()\n",
    "\n",
    "os.makedirs(save_directory + 'sum_tables/', exist_ok=True)        \n",
    "sum_table.to_csv(save_directory + 'sum_tables/sum_table.csv')"
   ]
  },
  {
   "cell_type": "code",
   "execution_count": 3,
   "id": "b4f467c8-d3ec-4eea-97fa-325b546ca012",
   "metadata": {},
   "outputs": [],
   "source": [
    "def get_stats(array):\n",
    "    array = np.ma.masked_invalid(array)\n",
    "    return np.sum(array), np.mean(array), np.std(array)"
   ]
  },
  {
   "cell_type": "code",
   "execution_count": 5,
   "id": "4910c980-8c4a-42ce-a584-f1175810210a",
   "metadata": {},
   "outputs": [
    {
     "data": {
      "application/vnd.jupyter.widget-view+json": {
       "model_id": "bda8999cf12b4c52bcaa857b7b25b677",
       "version_major": 2,
       "version_minor": 0
      },
      "text/plain": [
       "  0%|          | 0/10 [00:00<?, ?it/s]"
      ]
     },
     "metadata": {},
     "output_type": "display_data"
    }
   ],
   "source": [
    "par1 = 'gval'\n",
    "par2 = 'flux'\n",
    "\n",
    "som_size=10\n",
    "flux = pd.DataFrame({\n",
    "                'winning_Nx': [],\n",
    "                'winning_Ny': [],\n",
    "                'sum_'+par1:[], \n",
    "                'avg_'+par1:[],\n",
    "                'std_'+par1:[], \n",
    "                'sum_'+par2:[],\n",
    "                'avg_'+par2:[], \n",
    "                'std_'+par2:[],\n",
    "}, index=[])\n",
    "\n",
    "img1_avg = np.zeros(som_size*som_size).reshape((som_size, som_size))\n",
    "img1_std = np.zeros(som_size*som_size).reshape((som_size, som_size))\n",
    "\n",
    "img2_avg = np.zeros(som_size*som_size).reshape((som_size, som_size))\n",
    "img2_std = np.zeros(som_size*som_size).reshape((som_size, som_size))\n",
    "\n",
    "for nx in tqdm(range(0,som_size)):\n",
    "    for ny in range(0,som_size):\n",
    "        directory = save_directory + 'sum_tables/'\n",
    "\n",
    "        f = os.path.join(directory, 'sum_table.csv')\n",
    "\n",
    "        if os.path.isfile(f):\n",
    "            sum_table = pd.read_csv(f)\n",
    "    \n",
    "            xmask = sum_table['winning_Nx'] == nx\n",
    "            ymask = sum_table['winning_Ny'] == ny\n",
    "            selected_par1 = sum_table[xmask&ymask]['sum_'+par1]\n",
    "            selected_par2 = sum_table[xmask&ymask]['sum_'+par2]\n",
    "            sum1, avg1, std1 = get_stats(selected_par1)\n",
    "            sum2, avg2, std2 = get_stats(selected_par2)\n",
    "             \n",
    "            tmp = pd.DataFrame({\n",
    "                'winning_Nx': nx,\n",
    "                'winning_Ny': ny,\n",
    "                'sum_'+par1: sum1, \n",
    "                'avg_'+par1: avg1,\n",
    "                'std_'+par1: std1, \n",
    "                'sum_'+par2: sum2,\n",
    "                'avg_'+par2: avg2, \n",
    "                'std_'+par2: std2,\n",
    "            },\n",
    "            index=[nx*som_size + ny])\n",
    "        else:\n",
    "            print(\"sum table not found!\")\n",
    "            break\n",
    "            \n",
    "        img1_avg[9-nx,ny] = avg1\n",
    "        img1_std[9-nx,ny] = std1\n",
    "        img2_avg[9-nx,ny] = avg2\n",
    "        img2_std[9-nx,ny] = std2\n",
    "\n",
    "        flux = pd.concat([flux, tmp], ignore_index=True) \n",
    "\n",
    "flux.to_csv(directory+'PS_stats.csv') "
   ]
  },
  {
   "cell_type": "code",
   "execution_count": 6,
   "id": "9fdd0aca-1939-44a5-aff4-04fd180e7772",
   "metadata": {},
   "outputs": [],
   "source": [
    "def calculate_normalised_excess(obsv, sum_table, PS_stats, par, nx, ny):\n",
    "    xmask = PS_stats['winning_Nx'] == nx\n",
    "    ymask = PS_stats['winning_Ny'] == ny\n",
    "    avg = PS_stats[xmask&ymask]['avg_'+par].values\n",
    "    std = PS_stats[xmask&ymask]['std_'+par].values \n",
    "    #print(avg, std)\n",
    "    \n",
    "    idmask = sum_table['csd'] == obsv\n",
    "    xxmask = sum_table['winning_Nx'] == nx\n",
    "    yymask = sum_table['winning_Ny'] == ny\n",
    "    \n",
    "    sum_par = sum_table[idmask&xxmask&yymask]['sum_'+par].values\n",
    "    np.seterr(invalid='ignore')\n",
    "    try:\n",
    "        excess = np.divide((sum_par - avg), std)\n",
    "    except: \n",
    "        excess =  0\n",
    "    return excess"
   ]
  },
  {
   "cell_type": "code",
   "execution_count": 8,
   "id": "15c47c1e-2550-4dbd-af98-652b0ccfdc64",
   "metadata": {},
   "outputs": [
    {
     "data": {
      "application/vnd.jupyter.widget-view+json": {
       "model_id": "494e6d3d3fbe42a5a236c07f207a24b1",
       "version_major": 2,
       "version_minor": 0
      },
      "text/plain": [
       "  0%|          | 0/335 [00:00<?, ?it/s]"
      ]
     },
     "metadata": {},
     "output_type": "display_data"
    },
    {
     "name": "stderr",
     "output_type": "stream",
     "text": [
      "/tmp/ipykernel_89846/3150740380.py:29: RuntimeWarning: More than 20 figures have been opened. Figures created through the pyplot interface (`matplotlib.pyplot.figure`) are retained until explicitly closed and may consume too much memory. (To control this warning, see the rcParam `figure.max_open_warning`).\n",
      "  fig, ax = plt.subplots(1, 2, figsize=(9.5, 4))\n"
     ]
    },
    {
     "data": {
      "text/plain": [
       "<Figure size 684x288 with 0 Axes>"
      ]
     },
     "metadata": {},
     "output_type": "display_data"
    },
    {
     "data": {
      "text/plain": [
       "<Figure size 684x288 with 0 Axes>"
      ]
     },
     "metadata": {},
     "output_type": "display_data"
    },
    {
     "data": {
      "text/plain": [
       "<Figure size 684x288 with 0 Axes>"
      ]
     },
     "metadata": {},
     "output_type": "display_data"
    },
    {
     "data": {
      "text/plain": [
       "<Figure size 684x288 with 0 Axes>"
      ]
     },
     "metadata": {},
     "output_type": "display_data"
    },
    {
     "data": {
      "text/plain": [
       "<Figure size 684x288 with 0 Axes>"
      ]
     },
     "metadata": {},
     "output_type": "display_data"
    },
    {
     "data": {
      "text/plain": [
       "<Figure size 684x288 with 0 Axes>"
      ]
     },
     "metadata": {},
     "output_type": "display_data"
    },
    {
     "data": {
      "text/plain": [
       "<Figure size 684x288 with 0 Axes>"
      ]
     },
     "metadata": {},
     "output_type": "display_data"
    },
    {
     "data": {
      "text/plain": [
       "<Figure size 684x288 with 0 Axes>"
      ]
     },
     "metadata": {},
     "output_type": "display_data"
    },
    {
     "data": {
      "text/plain": [
       "<Figure size 684x288 with 0 Axes>"
      ]
     },
     "metadata": {},
     "output_type": "display_data"
    },
    {
     "data": {
      "text/plain": [
       "<Figure size 684x288 with 0 Axes>"
      ]
     },
     "metadata": {},
     "output_type": "display_data"
    },
    {
     "data": {
      "text/plain": [
       "<Figure size 684x288 with 0 Axes>"
      ]
     },
     "metadata": {},
     "output_type": "display_data"
    },
    {
     "data": {
      "text/plain": [
       "<Figure size 684x288 with 0 Axes>"
      ]
     },
     "metadata": {},
     "output_type": "display_data"
    },
    {
     "data": {
      "text/plain": [
       "<Figure size 684x288 with 0 Axes>"
      ]
     },
     "metadata": {},
     "output_type": "display_data"
    },
    {
     "data": {
      "text/plain": [
       "<Figure size 684x288 with 0 Axes>"
      ]
     },
     "metadata": {},
     "output_type": "display_data"
    },
    {
     "data": {
      "text/plain": [
       "<Figure size 684x288 with 0 Axes>"
      ]
     },
     "metadata": {},
     "output_type": "display_data"
    },
    {
     "data": {
      "text/plain": [
       "<Figure size 684x288 with 0 Axes>"
      ]
     },
     "metadata": {},
     "output_type": "display_data"
    },
    {
     "data": {
      "text/plain": [
       "<Figure size 684x288 with 0 Axes>"
      ]
     },
     "metadata": {},
     "output_type": "display_data"
    },
    {
     "data": {
      "text/plain": [
       "<Figure size 684x288 with 0 Axes>"
      ]
     },
     "metadata": {},
     "output_type": "display_data"
    },
    {
     "data": {
      "text/plain": [
       "<Figure size 684x288 with 0 Axes>"
      ]
     },
     "metadata": {},
     "output_type": "display_data"
    },
    {
     "data": {
      "text/plain": [
       "<Figure size 684x288 with 0 Axes>"
      ]
     },
     "metadata": {},
     "output_type": "display_data"
    },
    {
     "data": {
      "text/plain": [
       "<Figure size 684x288 with 0 Axes>"
      ]
     },
     "metadata": {},
     "output_type": "display_data"
    },
    {
     "data": {
      "text/plain": [
       "<Figure size 684x288 with 0 Axes>"
      ]
     },
     "metadata": {},
     "output_type": "display_data"
    },
    {
     "data": {
      "text/plain": [
       "<Figure size 684x288 with 0 Axes>"
      ]
     },
     "metadata": {},
     "output_type": "display_data"
    },
    {
     "data": {
      "text/plain": [
       "<Figure size 684x288 with 0 Axes>"
      ]
     },
     "metadata": {},
     "output_type": "display_data"
    },
    {
     "data": {
      "text/plain": [
       "<Figure size 684x288 with 0 Axes>"
      ]
     },
     "metadata": {},
     "output_type": "display_data"
    },
    {
     "data": {
      "text/plain": [
       "<Figure size 684x288 with 0 Axes>"
      ]
     },
     "metadata": {},
     "output_type": "display_data"
    },
    {
     "data": {
      "text/plain": [
       "<Figure size 684x288 with 0 Axes>"
      ]
     },
     "metadata": {},
     "output_type": "display_data"
    },
    {
     "data": {
      "text/plain": [
       "<Figure size 684x288 with 0 Axes>"
      ]
     },
     "metadata": {},
     "output_type": "display_data"
    },
    {
     "data": {
      "text/plain": [
       "<Figure size 684x288 with 0 Axes>"
      ]
     },
     "metadata": {},
     "output_type": "display_data"
    },
    {
     "data": {
      "text/plain": [
       "<Figure size 684x288 with 0 Axes>"
      ]
     },
     "metadata": {},
     "output_type": "display_data"
    },
    {
     "data": {
      "text/plain": [
       "<Figure size 684x288 with 0 Axes>"
      ]
     },
     "metadata": {},
     "output_type": "display_data"
    },
    {
     "data": {
      "text/plain": [
       "<Figure size 684x288 with 0 Axes>"
      ]
     },
     "metadata": {},
     "output_type": "display_data"
    },
    {
     "data": {
      "text/plain": [
       "<Figure size 684x288 with 0 Axes>"
      ]
     },
     "metadata": {},
     "output_type": "display_data"
    },
    {
     "data": {
      "text/plain": [
       "<Figure size 684x288 with 0 Axes>"
      ]
     },
     "metadata": {},
     "output_type": "display_data"
    },
    {
     "data": {
      "text/plain": [
       "<Figure size 684x288 with 0 Axes>"
      ]
     },
     "metadata": {},
     "output_type": "display_data"
    },
    {
     "data": {
      "text/plain": [
       "<Figure size 684x288 with 0 Axes>"
      ]
     },
     "metadata": {},
     "output_type": "display_data"
    },
    {
     "data": {
      "text/plain": [
       "<Figure size 684x288 with 0 Axes>"
      ]
     },
     "metadata": {},
     "output_type": "display_data"
    },
    {
     "data": {
      "text/plain": [
       "<Figure size 684x288 with 0 Axes>"
      ]
     },
     "metadata": {},
     "output_type": "display_data"
    },
    {
     "data": {
      "text/plain": [
       "<Figure size 684x288 with 0 Axes>"
      ]
     },
     "metadata": {},
     "output_type": "display_data"
    },
    {
     "data": {
      "text/plain": [
       "<Figure size 684x288 with 0 Axes>"
      ]
     },
     "metadata": {},
     "output_type": "display_data"
    },
    {
     "data": {
      "text/plain": [
       "<Figure size 684x288 with 0 Axes>"
      ]
     },
     "metadata": {},
     "output_type": "display_data"
    },
    {
     "data": {
      "text/plain": [
       "<Figure size 684x288 with 0 Axes>"
      ]
     },
     "metadata": {},
     "output_type": "display_data"
    },
    {
     "data": {
      "text/plain": [
       "<Figure size 684x288 with 0 Axes>"
      ]
     },
     "metadata": {},
     "output_type": "display_data"
    },
    {
     "data": {
      "text/plain": [
       "<Figure size 684x288 with 0 Axes>"
      ]
     },
     "metadata": {},
     "output_type": "display_data"
    },
    {
     "data": {
      "text/plain": [
       "<Figure size 684x288 with 0 Axes>"
      ]
     },
     "metadata": {},
     "output_type": "display_data"
    },
    {
     "data": {
      "text/plain": [
       "<Figure size 684x288 with 0 Axes>"
      ]
     },
     "metadata": {},
     "output_type": "display_data"
    },
    {
     "data": {
      "text/plain": [
       "<Figure size 684x288 with 0 Axes>"
      ]
     },
     "metadata": {},
     "output_type": "display_data"
    },
    {
     "data": {
      "text/plain": [
       "<Figure size 684x288 with 0 Axes>"
      ]
     },
     "metadata": {},
     "output_type": "display_data"
    },
    {
     "data": {
      "text/plain": [
       "<Figure size 684x288 with 0 Axes>"
      ]
     },
     "metadata": {},
     "output_type": "display_data"
    },
    {
     "data": {
      "text/plain": [
       "<Figure size 684x288 with 0 Axes>"
      ]
     },
     "metadata": {},
     "output_type": "display_data"
    },
    {
     "data": {
      "text/plain": [
       "<Figure size 684x288 with 0 Axes>"
      ]
     },
     "metadata": {},
     "output_type": "display_data"
    },
    {
     "data": {
      "text/plain": [
       "<Figure size 684x288 with 0 Axes>"
      ]
     },
     "metadata": {},
     "output_type": "display_data"
    },
    {
     "data": {
      "text/plain": [
       "<Figure size 684x288 with 0 Axes>"
      ]
     },
     "metadata": {},
     "output_type": "display_data"
    },
    {
     "data": {
      "text/plain": [
       "<Figure size 684x288 with 0 Axes>"
      ]
     },
     "metadata": {},
     "output_type": "display_data"
    },
    {
     "data": {
      "text/plain": [
       "<Figure size 684x288 with 0 Axes>"
      ]
     },
     "metadata": {},
     "output_type": "display_data"
    },
    {
     "data": {
      "text/plain": [
       "<Figure size 684x288 with 0 Axes>"
      ]
     },
     "metadata": {},
     "output_type": "display_data"
    },
    {
     "data": {
      "text/plain": [
       "<Figure size 684x288 with 0 Axes>"
      ]
     },
     "metadata": {},
     "output_type": "display_data"
    },
    {
     "data": {
      "text/plain": [
       "<Figure size 684x288 with 0 Axes>"
      ]
     },
     "metadata": {},
     "output_type": "display_data"
    },
    {
     "data": {
      "text/plain": [
       "<Figure size 684x288 with 0 Axes>"
      ]
     },
     "metadata": {},
     "output_type": "display_data"
    },
    {
     "data": {
      "text/plain": [
       "<Figure size 684x288 with 0 Axes>"
      ]
     },
     "metadata": {},
     "output_type": "display_data"
    },
    {
     "data": {
      "text/plain": [
       "<Figure size 684x288 with 0 Axes>"
      ]
     },
     "metadata": {},
     "output_type": "display_data"
    },
    {
     "data": {
      "text/plain": [
       "<Figure size 684x288 with 0 Axes>"
      ]
     },
     "metadata": {},
     "output_type": "display_data"
    },
    {
     "data": {
      "text/plain": [
       "<Figure size 684x288 with 0 Axes>"
      ]
     },
     "metadata": {},
     "output_type": "display_data"
    },
    {
     "data": {
      "text/plain": [
       "<Figure size 684x288 with 0 Axes>"
      ]
     },
     "metadata": {},
     "output_type": "display_data"
    },
    {
     "data": {
      "text/plain": [
       "<Figure size 684x288 with 0 Axes>"
      ]
     },
     "metadata": {},
     "output_type": "display_data"
    },
    {
     "data": {
      "text/plain": [
       "<Figure size 684x288 with 0 Axes>"
      ]
     },
     "metadata": {},
     "output_type": "display_data"
    },
    {
     "data": {
      "text/plain": [
       "<Figure size 684x288 with 0 Axes>"
      ]
     },
     "metadata": {},
     "output_type": "display_data"
    },
    {
     "data": {
      "text/plain": [
       "<Figure size 684x288 with 0 Axes>"
      ]
     },
     "metadata": {},
     "output_type": "display_data"
    },
    {
     "data": {
      "text/plain": [
       "<Figure size 684x288 with 0 Axes>"
      ]
     },
     "metadata": {},
     "output_type": "display_data"
    },
    {
     "data": {
      "text/plain": [
       "<Figure size 684x288 with 0 Axes>"
      ]
     },
     "metadata": {},
     "output_type": "display_data"
    },
    {
     "data": {
      "text/plain": [
       "<Figure size 684x288 with 0 Axes>"
      ]
     },
     "metadata": {},
     "output_type": "display_data"
    },
    {
     "data": {
      "text/plain": [
       "<Figure size 684x288 with 0 Axes>"
      ]
     },
     "metadata": {},
     "output_type": "display_data"
    },
    {
     "data": {
      "text/plain": [
       "<Figure size 684x288 with 0 Axes>"
      ]
     },
     "metadata": {},
     "output_type": "display_data"
    },
    {
     "data": {
      "text/plain": [
       "<Figure size 684x288 with 0 Axes>"
      ]
     },
     "metadata": {},
     "output_type": "display_data"
    },
    {
     "data": {
      "text/plain": [
       "<Figure size 684x288 with 0 Axes>"
      ]
     },
     "metadata": {},
     "output_type": "display_data"
    },
    {
     "data": {
      "text/plain": [
       "<Figure size 684x288 with 0 Axes>"
      ]
     },
     "metadata": {},
     "output_type": "display_data"
    },
    {
     "data": {
      "text/plain": [
       "<Figure size 684x288 with 0 Axes>"
      ]
     },
     "metadata": {},
     "output_type": "display_data"
    },
    {
     "data": {
      "text/plain": [
       "<Figure size 684x288 with 0 Axes>"
      ]
     },
     "metadata": {},
     "output_type": "display_data"
    },
    {
     "data": {
      "text/plain": [
       "<Figure size 684x288 with 0 Axes>"
      ]
     },
     "metadata": {},
     "output_type": "display_data"
    },
    {
     "data": {
      "text/plain": [
       "<Figure size 684x288 with 0 Axes>"
      ]
     },
     "metadata": {},
     "output_type": "display_data"
    },
    {
     "data": {
      "text/plain": [
       "<Figure size 684x288 with 0 Axes>"
      ]
     },
     "metadata": {},
     "output_type": "display_data"
    },
    {
     "data": {
      "text/plain": [
       "<Figure size 684x288 with 0 Axes>"
      ]
     },
     "metadata": {},
     "output_type": "display_data"
    },
    {
     "data": {
      "text/plain": [
       "<Figure size 684x288 with 0 Axes>"
      ]
     },
     "metadata": {},
     "output_type": "display_data"
    },
    {
     "data": {
      "text/plain": [
       "<Figure size 684x288 with 0 Axes>"
      ]
     },
     "metadata": {},
     "output_type": "display_data"
    },
    {
     "data": {
      "text/plain": [
       "<Figure size 684x288 with 0 Axes>"
      ]
     },
     "metadata": {},
     "output_type": "display_data"
    },
    {
     "data": {
      "text/plain": [
       "<Figure size 684x288 with 0 Axes>"
      ]
     },
     "metadata": {},
     "output_type": "display_data"
    },
    {
     "data": {
      "text/plain": [
       "<Figure size 684x288 with 0 Axes>"
      ]
     },
     "metadata": {},
     "output_type": "display_data"
    },
    {
     "data": {
      "text/plain": [
       "<Figure size 684x288 with 0 Axes>"
      ]
     },
     "metadata": {},
     "output_type": "display_data"
    },
    {
     "data": {
      "text/plain": [
       "<Figure size 684x288 with 0 Axes>"
      ]
     },
     "metadata": {},
     "output_type": "display_data"
    },
    {
     "data": {
      "text/plain": [
       "<Figure size 684x288 with 0 Axes>"
      ]
     },
     "metadata": {},
     "output_type": "display_data"
    },
    {
     "data": {
      "text/plain": [
       "<Figure size 684x288 with 0 Axes>"
      ]
     },
     "metadata": {},
     "output_type": "display_data"
    },
    {
     "data": {
      "text/plain": [
       "<Figure size 684x288 with 0 Axes>"
      ]
     },
     "metadata": {},
     "output_type": "display_data"
    },
    {
     "data": {
      "text/plain": [
       "<Figure size 684x288 with 0 Axes>"
      ]
     },
     "metadata": {},
     "output_type": "display_data"
    },
    {
     "data": {
      "text/plain": [
       "<Figure size 684x288 with 0 Axes>"
      ]
     },
     "metadata": {},
     "output_type": "display_data"
    },
    {
     "data": {
      "text/plain": [
       "<Figure size 684x288 with 0 Axes>"
      ]
     },
     "metadata": {},
     "output_type": "display_data"
    },
    {
     "data": {
      "text/plain": [
       "<Figure size 684x288 with 0 Axes>"
      ]
     },
     "metadata": {},
     "output_type": "display_data"
    },
    {
     "data": {
      "text/plain": [
       "<Figure size 684x288 with 0 Axes>"
      ]
     },
     "metadata": {},
     "output_type": "display_data"
    },
    {
     "data": {
      "text/plain": [
       "<Figure size 684x288 with 0 Axes>"
      ]
     },
     "metadata": {},
     "output_type": "display_data"
    },
    {
     "data": {
      "text/plain": [
       "<Figure size 684x288 with 0 Axes>"
      ]
     },
     "metadata": {},
     "output_type": "display_data"
    },
    {
     "data": {
      "text/plain": [
       "<Figure size 684x288 with 0 Axes>"
      ]
     },
     "metadata": {},
     "output_type": "display_data"
    },
    {
     "data": {
      "text/plain": [
       "<Figure size 684x288 with 0 Axes>"
      ]
     },
     "metadata": {},
     "output_type": "display_data"
    },
    {
     "data": {
      "text/plain": [
       "<Figure size 684x288 with 0 Axes>"
      ]
     },
     "metadata": {},
     "output_type": "display_data"
    },
    {
     "data": {
      "text/plain": [
       "<Figure size 684x288 with 0 Axes>"
      ]
     },
     "metadata": {},
     "output_type": "display_data"
    },
    {
     "data": {
      "text/plain": [
       "<Figure size 684x288 with 0 Axes>"
      ]
     },
     "metadata": {},
     "output_type": "display_data"
    },
    {
     "data": {
      "text/plain": [
       "<Figure size 684x288 with 0 Axes>"
      ]
     },
     "metadata": {},
     "output_type": "display_data"
    },
    {
     "data": {
      "text/plain": [
       "<Figure size 684x288 with 0 Axes>"
      ]
     },
     "metadata": {},
     "output_type": "display_data"
    },
    {
     "data": {
      "text/plain": [
       "<Figure size 684x288 with 0 Axes>"
      ]
     },
     "metadata": {},
     "output_type": "display_data"
    },
    {
     "data": {
      "text/plain": [
       "<Figure size 684x288 with 0 Axes>"
      ]
     },
     "metadata": {},
     "output_type": "display_data"
    },
    {
     "data": {
      "text/plain": [
       "<Figure size 684x288 with 0 Axes>"
      ]
     },
     "metadata": {},
     "output_type": "display_data"
    },
    {
     "data": {
      "text/plain": [
       "<Figure size 684x288 with 0 Axes>"
      ]
     },
     "metadata": {},
     "output_type": "display_data"
    },
    {
     "data": {
      "text/plain": [
       "<Figure size 684x288 with 0 Axes>"
      ]
     },
     "metadata": {},
     "output_type": "display_data"
    },
    {
     "data": {
      "text/plain": [
       "<Figure size 684x288 with 0 Axes>"
      ]
     },
     "metadata": {},
     "output_type": "display_data"
    },
    {
     "data": {
      "text/plain": [
       "<Figure size 684x288 with 0 Axes>"
      ]
     },
     "metadata": {},
     "output_type": "display_data"
    },
    {
     "data": {
      "text/plain": [
       "<Figure size 684x288 with 0 Axes>"
      ]
     },
     "metadata": {},
     "output_type": "display_data"
    },
    {
     "data": {
      "text/plain": [
       "<Figure size 684x288 with 0 Axes>"
      ]
     },
     "metadata": {},
     "output_type": "display_data"
    },
    {
     "data": {
      "text/plain": [
       "<Figure size 684x288 with 0 Axes>"
      ]
     },
     "metadata": {},
     "output_type": "display_data"
    },
    {
     "data": {
      "text/plain": [
       "<Figure size 684x288 with 0 Axes>"
      ]
     },
     "metadata": {},
     "output_type": "display_data"
    },
    {
     "data": {
      "text/plain": [
       "<Figure size 684x288 with 0 Axes>"
      ]
     },
     "metadata": {},
     "output_type": "display_data"
    },
    {
     "data": {
      "text/plain": [
       "<Figure size 684x288 with 0 Axes>"
      ]
     },
     "metadata": {},
     "output_type": "display_data"
    },
    {
     "data": {
      "text/plain": [
       "<Figure size 684x288 with 0 Axes>"
      ]
     },
     "metadata": {},
     "output_type": "display_data"
    },
    {
     "data": {
      "text/plain": [
       "<Figure size 684x288 with 0 Axes>"
      ]
     },
     "metadata": {},
     "output_type": "display_data"
    },
    {
     "data": {
      "text/plain": [
       "<Figure size 684x288 with 0 Axes>"
      ]
     },
     "metadata": {},
     "output_type": "display_data"
    },
    {
     "data": {
      "text/plain": [
       "<Figure size 684x288 with 0 Axes>"
      ]
     },
     "metadata": {},
     "output_type": "display_data"
    },
    {
     "data": {
      "text/plain": [
       "<Figure size 684x288 with 0 Axes>"
      ]
     },
     "metadata": {},
     "output_type": "display_data"
    },
    {
     "data": {
      "text/plain": [
       "<Figure size 684x288 with 0 Axes>"
      ]
     },
     "metadata": {},
     "output_type": "display_data"
    },
    {
     "data": {
      "text/plain": [
       "<Figure size 684x288 with 0 Axes>"
      ]
     },
     "metadata": {},
     "output_type": "display_data"
    },
    {
     "data": {
      "text/plain": [
       "<Figure size 684x288 with 0 Axes>"
      ]
     },
     "metadata": {},
     "output_type": "display_data"
    },
    {
     "data": {
      "text/plain": [
       "<Figure size 684x288 with 0 Axes>"
      ]
     },
     "metadata": {},
     "output_type": "display_data"
    },
    {
     "data": {
      "text/plain": [
       "<Figure size 684x288 with 0 Axes>"
      ]
     },
     "metadata": {},
     "output_type": "display_data"
    },
    {
     "data": {
      "text/plain": [
       "<Figure size 684x288 with 0 Axes>"
      ]
     },
     "metadata": {},
     "output_type": "display_data"
    },
    {
     "data": {
      "text/plain": [
       "<Figure size 684x288 with 0 Axes>"
      ]
     },
     "metadata": {},
     "output_type": "display_data"
    },
    {
     "data": {
      "text/plain": [
       "<Figure size 684x288 with 0 Axes>"
      ]
     },
     "metadata": {},
     "output_type": "display_data"
    },
    {
     "data": {
      "text/plain": [
       "<Figure size 684x288 with 0 Axes>"
      ]
     },
     "metadata": {},
     "output_type": "display_data"
    },
    {
     "data": {
      "text/plain": [
       "<Figure size 684x288 with 0 Axes>"
      ]
     },
     "metadata": {},
     "output_type": "display_data"
    },
    {
     "data": {
      "text/plain": [
       "<Figure size 684x288 with 0 Axes>"
      ]
     },
     "metadata": {},
     "output_type": "display_data"
    },
    {
     "data": {
      "text/plain": [
       "<Figure size 684x288 with 0 Axes>"
      ]
     },
     "metadata": {},
     "output_type": "display_data"
    },
    {
     "data": {
      "text/plain": [
       "<Figure size 684x288 with 0 Axes>"
      ]
     },
     "metadata": {},
     "output_type": "display_data"
    },
    {
     "data": {
      "text/plain": [
       "<Figure size 684x288 with 0 Axes>"
      ]
     },
     "metadata": {},
     "output_type": "display_data"
    },
    {
     "data": {
      "text/plain": [
       "<Figure size 684x288 with 0 Axes>"
      ]
     },
     "metadata": {},
     "output_type": "display_data"
    },
    {
     "data": {
      "text/plain": [
       "<Figure size 684x288 with 0 Axes>"
      ]
     },
     "metadata": {},
     "output_type": "display_data"
    },
    {
     "data": {
      "text/plain": [
       "<Figure size 684x288 with 0 Axes>"
      ]
     },
     "metadata": {},
     "output_type": "display_data"
    },
    {
     "data": {
      "text/plain": [
       "<Figure size 684x288 with 0 Axes>"
      ]
     },
     "metadata": {},
     "output_type": "display_data"
    },
    {
     "data": {
      "text/plain": [
       "<Figure size 684x288 with 0 Axes>"
      ]
     },
     "metadata": {},
     "output_type": "display_data"
    },
    {
     "data": {
      "text/plain": [
       "<Figure size 684x288 with 0 Axes>"
      ]
     },
     "metadata": {},
     "output_type": "display_data"
    },
    {
     "data": {
      "text/plain": [
       "<Figure size 684x288 with 0 Axes>"
      ]
     },
     "metadata": {},
     "output_type": "display_data"
    },
    {
     "data": {
      "text/plain": [
       "<Figure size 684x288 with 0 Axes>"
      ]
     },
     "metadata": {},
     "output_type": "display_data"
    },
    {
     "data": {
      "text/plain": [
       "<Figure size 684x288 with 0 Axes>"
      ]
     },
     "metadata": {},
     "output_type": "display_data"
    },
    {
     "data": {
      "text/plain": [
       "<Figure size 684x288 with 0 Axes>"
      ]
     },
     "metadata": {},
     "output_type": "display_data"
    },
    {
     "data": {
      "text/plain": [
       "<Figure size 684x288 with 0 Axes>"
      ]
     },
     "metadata": {},
     "output_type": "display_data"
    },
    {
     "data": {
      "text/plain": [
       "<Figure size 684x288 with 0 Axes>"
      ]
     },
     "metadata": {},
     "output_type": "display_data"
    },
    {
     "data": {
      "text/plain": [
       "<Figure size 684x288 with 0 Axes>"
      ]
     },
     "metadata": {},
     "output_type": "display_data"
    },
    {
     "data": {
      "text/plain": [
       "<Figure size 684x288 with 0 Axes>"
      ]
     },
     "metadata": {},
     "output_type": "display_data"
    },
    {
     "data": {
      "text/plain": [
       "<Figure size 684x288 with 0 Axes>"
      ]
     },
     "metadata": {},
     "output_type": "display_data"
    },
    {
     "data": {
      "text/plain": [
       "<Figure size 684x288 with 0 Axes>"
      ]
     },
     "metadata": {},
     "output_type": "display_data"
    },
    {
     "data": {
      "text/plain": [
       "<Figure size 684x288 with 0 Axes>"
      ]
     },
     "metadata": {},
     "output_type": "display_data"
    },
    {
     "data": {
      "text/plain": [
       "<Figure size 684x288 with 0 Axes>"
      ]
     },
     "metadata": {},
     "output_type": "display_data"
    },
    {
     "data": {
      "text/plain": [
       "<Figure size 684x288 with 0 Axes>"
      ]
     },
     "metadata": {},
     "output_type": "display_data"
    },
    {
     "data": {
      "text/plain": [
       "<Figure size 684x288 with 0 Axes>"
      ]
     },
     "metadata": {},
     "output_type": "display_data"
    },
    {
     "data": {
      "text/plain": [
       "<Figure size 684x288 with 0 Axes>"
      ]
     },
     "metadata": {},
     "output_type": "display_data"
    },
    {
     "data": {
      "text/plain": [
       "<Figure size 684x288 with 0 Axes>"
      ]
     },
     "metadata": {},
     "output_type": "display_data"
    },
    {
     "data": {
      "text/plain": [
       "<Figure size 684x288 with 0 Axes>"
      ]
     },
     "metadata": {},
     "output_type": "display_data"
    },
    {
     "data": {
      "text/plain": [
       "<Figure size 684x288 with 0 Axes>"
      ]
     },
     "metadata": {},
     "output_type": "display_data"
    },
    {
     "data": {
      "text/plain": [
       "<Figure size 684x288 with 0 Axes>"
      ]
     },
     "metadata": {},
     "output_type": "display_data"
    },
    {
     "data": {
      "text/plain": [
       "<Figure size 684x288 with 0 Axes>"
      ]
     },
     "metadata": {},
     "output_type": "display_data"
    },
    {
     "data": {
      "text/plain": [
       "<Figure size 684x288 with 0 Axes>"
      ]
     },
     "metadata": {},
     "output_type": "display_data"
    },
    {
     "data": {
      "text/plain": [
       "<Figure size 684x288 with 0 Axes>"
      ]
     },
     "metadata": {},
     "output_type": "display_data"
    },
    {
     "data": {
      "text/plain": [
       "<Figure size 684x288 with 0 Axes>"
      ]
     },
     "metadata": {},
     "output_type": "display_data"
    },
    {
     "data": {
      "text/plain": [
       "<Figure size 684x288 with 0 Axes>"
      ]
     },
     "metadata": {},
     "output_type": "display_data"
    },
    {
     "data": {
      "text/plain": [
       "<Figure size 684x288 with 0 Axes>"
      ]
     },
     "metadata": {},
     "output_type": "display_data"
    },
    {
     "data": {
      "text/plain": [
       "<Figure size 684x288 with 0 Axes>"
      ]
     },
     "metadata": {},
     "output_type": "display_data"
    },
    {
     "data": {
      "text/plain": [
       "<Figure size 684x288 with 0 Axes>"
      ]
     },
     "metadata": {},
     "output_type": "display_data"
    },
    {
     "data": {
      "text/plain": [
       "<Figure size 684x288 with 0 Axes>"
      ]
     },
     "metadata": {},
     "output_type": "display_data"
    },
    {
     "data": {
      "text/plain": [
       "<Figure size 684x288 with 0 Axes>"
      ]
     },
     "metadata": {},
     "output_type": "display_data"
    },
    {
     "data": {
      "text/plain": [
       "<Figure size 684x288 with 0 Axes>"
      ]
     },
     "metadata": {},
     "output_type": "display_data"
    },
    {
     "data": {
      "text/plain": [
       "<Figure size 684x288 with 0 Axes>"
      ]
     },
     "metadata": {},
     "output_type": "display_data"
    },
    {
     "data": {
      "text/plain": [
       "<Figure size 684x288 with 0 Axes>"
      ]
     },
     "metadata": {},
     "output_type": "display_data"
    },
    {
     "data": {
      "text/plain": [
       "<Figure size 684x288 with 0 Axes>"
      ]
     },
     "metadata": {},
     "output_type": "display_data"
    },
    {
     "data": {
      "text/plain": [
       "<Figure size 684x288 with 0 Axes>"
      ]
     },
     "metadata": {},
     "output_type": "display_data"
    },
    {
     "data": {
      "text/plain": [
       "<Figure size 684x288 with 0 Axes>"
      ]
     },
     "metadata": {},
     "output_type": "display_data"
    },
    {
     "data": {
      "text/plain": [
       "<Figure size 684x288 with 0 Axes>"
      ]
     },
     "metadata": {},
     "output_type": "display_data"
    },
    {
     "data": {
      "text/plain": [
       "<Figure size 684x288 with 0 Axes>"
      ]
     },
     "metadata": {},
     "output_type": "display_data"
    },
    {
     "data": {
      "text/plain": [
       "<Figure size 684x288 with 0 Axes>"
      ]
     },
     "metadata": {},
     "output_type": "display_data"
    },
    {
     "data": {
      "text/plain": [
       "<Figure size 684x288 with 0 Axes>"
      ]
     },
     "metadata": {},
     "output_type": "display_data"
    },
    {
     "data": {
      "text/plain": [
       "<Figure size 684x288 with 0 Axes>"
      ]
     },
     "metadata": {},
     "output_type": "display_data"
    },
    {
     "data": {
      "text/plain": [
       "<Figure size 684x288 with 0 Axes>"
      ]
     },
     "metadata": {},
     "output_type": "display_data"
    },
    {
     "data": {
      "text/plain": [
       "<Figure size 684x288 with 0 Axes>"
      ]
     },
     "metadata": {},
     "output_type": "display_data"
    },
    {
     "data": {
      "text/plain": [
       "<Figure size 684x288 with 0 Axes>"
      ]
     },
     "metadata": {},
     "output_type": "display_data"
    },
    {
     "data": {
      "text/plain": [
       "<Figure size 684x288 with 0 Axes>"
      ]
     },
     "metadata": {},
     "output_type": "display_data"
    },
    {
     "data": {
      "text/plain": [
       "<Figure size 684x288 with 0 Axes>"
      ]
     },
     "metadata": {},
     "output_type": "display_data"
    },
    {
     "data": {
      "text/plain": [
       "<Figure size 684x288 with 0 Axes>"
      ]
     },
     "metadata": {},
     "output_type": "display_data"
    },
    {
     "data": {
      "text/plain": [
       "<Figure size 684x288 with 0 Axes>"
      ]
     },
     "metadata": {},
     "output_type": "display_data"
    },
    {
     "data": {
      "text/plain": [
       "<Figure size 684x288 with 0 Axes>"
      ]
     },
     "metadata": {},
     "output_type": "display_data"
    },
    {
     "data": {
      "text/plain": [
       "<Figure size 684x288 with 0 Axes>"
      ]
     },
     "metadata": {},
     "output_type": "display_data"
    },
    {
     "data": {
      "text/plain": [
       "<Figure size 684x288 with 0 Axes>"
      ]
     },
     "metadata": {},
     "output_type": "display_data"
    },
    {
     "data": {
      "text/plain": [
       "<Figure size 684x288 with 0 Axes>"
      ]
     },
     "metadata": {},
     "output_type": "display_data"
    },
    {
     "data": {
      "text/plain": [
       "<Figure size 684x288 with 0 Axes>"
      ]
     },
     "metadata": {},
     "output_type": "display_data"
    },
    {
     "data": {
      "text/plain": [
       "<Figure size 684x288 with 0 Axes>"
      ]
     },
     "metadata": {},
     "output_type": "display_data"
    },
    {
     "data": {
      "text/plain": [
       "<Figure size 684x288 with 0 Axes>"
      ]
     },
     "metadata": {},
     "output_type": "display_data"
    },
    {
     "data": {
      "text/plain": [
       "<Figure size 684x288 with 0 Axes>"
      ]
     },
     "metadata": {},
     "output_type": "display_data"
    },
    {
     "data": {
      "text/plain": [
       "<Figure size 684x288 with 0 Axes>"
      ]
     },
     "metadata": {},
     "output_type": "display_data"
    },
    {
     "data": {
      "text/plain": [
       "<Figure size 684x288 with 0 Axes>"
      ]
     },
     "metadata": {},
     "output_type": "display_data"
    },
    {
     "data": {
      "text/plain": [
       "<Figure size 684x288 with 0 Axes>"
      ]
     },
     "metadata": {},
     "output_type": "display_data"
    },
    {
     "data": {
      "text/plain": [
       "<Figure size 684x288 with 0 Axes>"
      ]
     },
     "metadata": {},
     "output_type": "display_data"
    },
    {
     "data": {
      "text/plain": [
       "<Figure size 684x288 with 0 Axes>"
      ]
     },
     "metadata": {},
     "output_type": "display_data"
    },
    {
     "data": {
      "text/plain": [
       "<Figure size 684x288 with 0 Axes>"
      ]
     },
     "metadata": {},
     "output_type": "display_data"
    },
    {
     "data": {
      "text/plain": [
       "<Figure size 684x288 with 0 Axes>"
      ]
     },
     "metadata": {},
     "output_type": "display_data"
    },
    {
     "data": {
      "text/plain": [
       "<Figure size 684x288 with 0 Axes>"
      ]
     },
     "metadata": {},
     "output_type": "display_data"
    },
    {
     "data": {
      "text/plain": [
       "<Figure size 684x288 with 0 Axes>"
      ]
     },
     "metadata": {},
     "output_type": "display_data"
    },
    {
     "data": {
      "text/plain": [
       "<Figure size 684x288 with 0 Axes>"
      ]
     },
     "metadata": {},
     "output_type": "display_data"
    },
    {
     "data": {
      "text/plain": [
       "<Figure size 684x288 with 0 Axes>"
      ]
     },
     "metadata": {},
     "output_type": "display_data"
    },
    {
     "data": {
      "text/plain": [
       "<Figure size 684x288 with 0 Axes>"
      ]
     },
     "metadata": {},
     "output_type": "display_data"
    },
    {
     "data": {
      "text/plain": [
       "<Figure size 684x288 with 0 Axes>"
      ]
     },
     "metadata": {},
     "output_type": "display_data"
    },
    {
     "data": {
      "text/plain": [
       "<Figure size 684x288 with 0 Axes>"
      ]
     },
     "metadata": {},
     "output_type": "display_data"
    },
    {
     "data": {
      "text/plain": [
       "<Figure size 684x288 with 0 Axes>"
      ]
     },
     "metadata": {},
     "output_type": "display_data"
    },
    {
     "data": {
      "text/plain": [
       "<Figure size 684x288 with 0 Axes>"
      ]
     },
     "metadata": {},
     "output_type": "display_data"
    },
    {
     "data": {
      "text/plain": [
       "<Figure size 684x288 with 0 Axes>"
      ]
     },
     "metadata": {},
     "output_type": "display_data"
    },
    {
     "data": {
      "text/plain": [
       "<Figure size 684x288 with 0 Axes>"
      ]
     },
     "metadata": {},
     "output_type": "display_data"
    },
    {
     "data": {
      "text/plain": [
       "<Figure size 684x288 with 0 Axes>"
      ]
     },
     "metadata": {},
     "output_type": "display_data"
    },
    {
     "data": {
      "text/plain": [
       "<Figure size 684x288 with 0 Axes>"
      ]
     },
     "metadata": {},
     "output_type": "display_data"
    },
    {
     "data": {
      "text/plain": [
       "<Figure size 684x288 with 0 Axes>"
      ]
     },
     "metadata": {},
     "output_type": "display_data"
    },
    {
     "data": {
      "text/plain": [
       "<Figure size 684x288 with 0 Axes>"
      ]
     },
     "metadata": {},
     "output_type": "display_data"
    },
    {
     "data": {
      "text/plain": [
       "<Figure size 684x288 with 0 Axes>"
      ]
     },
     "metadata": {},
     "output_type": "display_data"
    },
    {
     "data": {
      "text/plain": [
       "<Figure size 684x288 with 0 Axes>"
      ]
     },
     "metadata": {},
     "output_type": "display_data"
    },
    {
     "data": {
      "text/plain": [
       "<Figure size 684x288 with 0 Axes>"
      ]
     },
     "metadata": {},
     "output_type": "display_data"
    },
    {
     "data": {
      "text/plain": [
       "<Figure size 684x288 with 0 Axes>"
      ]
     },
     "metadata": {},
     "output_type": "display_data"
    },
    {
     "data": {
      "text/plain": [
       "<Figure size 684x288 with 0 Axes>"
      ]
     },
     "metadata": {},
     "output_type": "display_data"
    },
    {
     "data": {
      "text/plain": [
       "<Figure size 684x288 with 0 Axes>"
      ]
     },
     "metadata": {},
     "output_type": "display_data"
    },
    {
     "data": {
      "text/plain": [
       "<Figure size 684x288 with 0 Axes>"
      ]
     },
     "metadata": {},
     "output_type": "display_data"
    },
    {
     "data": {
      "text/plain": [
       "<Figure size 684x288 with 0 Axes>"
      ]
     },
     "metadata": {},
     "output_type": "display_data"
    },
    {
     "data": {
      "text/plain": [
       "<Figure size 684x288 with 0 Axes>"
      ]
     },
     "metadata": {},
     "output_type": "display_data"
    },
    {
     "data": {
      "text/plain": [
       "<Figure size 684x288 with 0 Axes>"
      ]
     },
     "metadata": {},
     "output_type": "display_data"
    },
    {
     "data": {
      "text/plain": [
       "<Figure size 684x288 with 0 Axes>"
      ]
     },
     "metadata": {},
     "output_type": "display_data"
    },
    {
     "data": {
      "text/plain": [
       "<Figure size 684x288 with 0 Axes>"
      ]
     },
     "metadata": {},
     "output_type": "display_data"
    },
    {
     "data": {
      "text/plain": [
       "<Figure size 684x288 with 0 Axes>"
      ]
     },
     "metadata": {},
     "output_type": "display_data"
    },
    {
     "data": {
      "text/plain": [
       "<Figure size 684x288 with 0 Axes>"
      ]
     },
     "metadata": {},
     "output_type": "display_data"
    },
    {
     "data": {
      "text/plain": [
       "<Figure size 684x288 with 0 Axes>"
      ]
     },
     "metadata": {},
     "output_type": "display_data"
    },
    {
     "data": {
      "text/plain": [
       "<Figure size 684x288 with 0 Axes>"
      ]
     },
     "metadata": {},
     "output_type": "display_data"
    },
    {
     "data": {
      "text/plain": [
       "<Figure size 684x288 with 0 Axes>"
      ]
     },
     "metadata": {},
     "output_type": "display_data"
    },
    {
     "data": {
      "text/plain": [
       "<Figure size 684x288 with 0 Axes>"
      ]
     },
     "metadata": {},
     "output_type": "display_data"
    },
    {
     "data": {
      "text/plain": [
       "<Figure size 684x288 with 0 Axes>"
      ]
     },
     "metadata": {},
     "output_type": "display_data"
    },
    {
     "data": {
      "text/plain": [
       "<Figure size 684x288 with 0 Axes>"
      ]
     },
     "metadata": {},
     "output_type": "display_data"
    },
    {
     "data": {
      "text/plain": [
       "<Figure size 684x288 with 0 Axes>"
      ]
     },
     "metadata": {},
     "output_type": "display_data"
    },
    {
     "data": {
      "text/plain": [
       "<Figure size 684x288 with 0 Axes>"
      ]
     },
     "metadata": {},
     "output_type": "display_data"
    },
    {
     "data": {
      "text/plain": [
       "<Figure size 684x288 with 0 Axes>"
      ]
     },
     "metadata": {},
     "output_type": "display_data"
    },
    {
     "data": {
      "text/plain": [
       "<Figure size 684x288 with 0 Axes>"
      ]
     },
     "metadata": {},
     "output_type": "display_data"
    },
    {
     "data": {
      "text/plain": [
       "<Figure size 684x288 with 0 Axes>"
      ]
     },
     "metadata": {},
     "output_type": "display_data"
    },
    {
     "data": {
      "text/plain": [
       "<Figure size 684x288 with 0 Axes>"
      ]
     },
     "metadata": {},
     "output_type": "display_data"
    },
    {
     "data": {
      "text/plain": [
       "<Figure size 684x288 with 0 Axes>"
      ]
     },
     "metadata": {},
     "output_type": "display_data"
    },
    {
     "data": {
      "text/plain": [
       "<Figure size 684x288 with 0 Axes>"
      ]
     },
     "metadata": {},
     "output_type": "display_data"
    },
    {
     "data": {
      "text/plain": [
       "<Figure size 684x288 with 0 Axes>"
      ]
     },
     "metadata": {},
     "output_type": "display_data"
    },
    {
     "data": {
      "text/plain": [
       "<Figure size 684x288 with 0 Axes>"
      ]
     },
     "metadata": {},
     "output_type": "display_data"
    },
    {
     "data": {
      "text/plain": [
       "<Figure size 684x288 with 0 Axes>"
      ]
     },
     "metadata": {},
     "output_type": "display_data"
    },
    {
     "data": {
      "text/plain": [
       "<Figure size 684x288 with 0 Axes>"
      ]
     },
     "metadata": {},
     "output_type": "display_data"
    },
    {
     "data": {
      "text/plain": [
       "<Figure size 684x288 with 0 Axes>"
      ]
     },
     "metadata": {},
     "output_type": "display_data"
    },
    {
     "data": {
      "text/plain": [
       "<Figure size 684x288 with 0 Axes>"
      ]
     },
     "metadata": {},
     "output_type": "display_data"
    },
    {
     "data": {
      "text/plain": [
       "<Figure size 684x288 with 0 Axes>"
      ]
     },
     "metadata": {},
     "output_type": "display_data"
    },
    {
     "data": {
      "text/plain": [
       "<Figure size 684x288 with 0 Axes>"
      ]
     },
     "metadata": {},
     "output_type": "display_data"
    },
    {
     "data": {
      "text/plain": [
       "<Figure size 684x288 with 0 Axes>"
      ]
     },
     "metadata": {},
     "output_type": "display_data"
    },
    {
     "data": {
      "text/plain": [
       "<Figure size 684x288 with 0 Axes>"
      ]
     },
     "metadata": {},
     "output_type": "display_data"
    },
    {
     "data": {
      "text/plain": [
       "<Figure size 684x288 with 0 Axes>"
      ]
     },
     "metadata": {},
     "output_type": "display_data"
    },
    {
     "data": {
      "text/plain": [
       "<Figure size 684x288 with 0 Axes>"
      ]
     },
     "metadata": {},
     "output_type": "display_data"
    },
    {
     "data": {
      "text/plain": [
       "<Figure size 684x288 with 0 Axes>"
      ]
     },
     "metadata": {},
     "output_type": "display_data"
    },
    {
     "data": {
      "text/plain": [
       "<Figure size 684x288 with 0 Axes>"
      ]
     },
     "metadata": {},
     "output_type": "display_data"
    },
    {
     "data": {
      "text/plain": [
       "<Figure size 684x288 with 0 Axes>"
      ]
     },
     "metadata": {},
     "output_type": "display_data"
    },
    {
     "data": {
      "text/plain": [
       "<Figure size 684x288 with 0 Axes>"
      ]
     },
     "metadata": {},
     "output_type": "display_data"
    },
    {
     "data": {
      "text/plain": [
       "<Figure size 684x288 with 0 Axes>"
      ]
     },
     "metadata": {},
     "output_type": "display_data"
    },
    {
     "data": {
      "text/plain": [
       "<Figure size 684x288 with 0 Axes>"
      ]
     },
     "metadata": {},
     "output_type": "display_data"
    },
    {
     "data": {
      "text/plain": [
       "<Figure size 684x288 with 0 Axes>"
      ]
     },
     "metadata": {},
     "output_type": "display_data"
    },
    {
     "data": {
      "text/plain": [
       "<Figure size 684x288 with 0 Axes>"
      ]
     },
     "metadata": {},
     "output_type": "display_data"
    },
    {
     "data": {
      "text/plain": [
       "<Figure size 684x288 with 0 Axes>"
      ]
     },
     "metadata": {},
     "output_type": "display_data"
    },
    {
     "data": {
      "text/plain": [
       "<Figure size 684x288 with 0 Axes>"
      ]
     },
     "metadata": {},
     "output_type": "display_data"
    },
    {
     "data": {
      "text/plain": [
       "<Figure size 684x288 with 0 Axes>"
      ]
     },
     "metadata": {},
     "output_type": "display_data"
    },
    {
     "data": {
      "text/plain": [
       "<Figure size 684x288 with 0 Axes>"
      ]
     },
     "metadata": {},
     "output_type": "display_data"
    },
    {
     "data": {
      "text/plain": [
       "<Figure size 684x288 with 0 Axes>"
      ]
     },
     "metadata": {},
     "output_type": "display_data"
    },
    {
     "data": {
      "text/plain": [
       "<Figure size 684x288 with 0 Axes>"
      ]
     },
     "metadata": {},
     "output_type": "display_data"
    },
    {
     "data": {
      "text/plain": [
       "<Figure size 684x288 with 0 Axes>"
      ]
     },
     "metadata": {},
     "output_type": "display_data"
    },
    {
     "data": {
      "text/plain": [
       "<Figure size 684x288 with 0 Axes>"
      ]
     },
     "metadata": {},
     "output_type": "display_data"
    },
    {
     "data": {
      "text/plain": [
       "<Figure size 684x288 with 0 Axes>"
      ]
     },
     "metadata": {},
     "output_type": "display_data"
    },
    {
     "data": {
      "text/plain": [
       "<Figure size 684x288 with 0 Axes>"
      ]
     },
     "metadata": {},
     "output_type": "display_data"
    },
    {
     "data": {
      "text/plain": [
       "<Figure size 684x288 with 0 Axes>"
      ]
     },
     "metadata": {},
     "output_type": "display_data"
    },
    {
     "data": {
      "text/plain": [
       "<Figure size 684x288 with 0 Axes>"
      ]
     },
     "metadata": {},
     "output_type": "display_data"
    },
    {
     "data": {
      "text/plain": [
       "<Figure size 684x288 with 0 Axes>"
      ]
     },
     "metadata": {},
     "output_type": "display_data"
    },
    {
     "data": {
      "text/plain": [
       "<Figure size 684x288 with 0 Axes>"
      ]
     },
     "metadata": {},
     "output_type": "display_data"
    },
    {
     "data": {
      "text/plain": [
       "<Figure size 684x288 with 0 Axes>"
      ]
     },
     "metadata": {},
     "output_type": "display_data"
    },
    {
     "data": {
      "text/plain": [
       "<Figure size 684x288 with 0 Axes>"
      ]
     },
     "metadata": {},
     "output_type": "display_data"
    },
    {
     "data": {
      "text/plain": [
       "<Figure size 684x288 with 0 Axes>"
      ]
     },
     "metadata": {},
     "output_type": "display_data"
    },
    {
     "data": {
      "text/plain": [
       "<Figure size 684x288 with 0 Axes>"
      ]
     },
     "metadata": {},
     "output_type": "display_data"
    },
    {
     "data": {
      "text/plain": [
       "<Figure size 684x288 with 0 Axes>"
      ]
     },
     "metadata": {},
     "output_type": "display_data"
    },
    {
     "data": {
      "text/plain": [
       "<Figure size 684x288 with 0 Axes>"
      ]
     },
     "metadata": {},
     "output_type": "display_data"
    },
    {
     "data": {
      "text/plain": [
       "<Figure size 684x288 with 0 Axes>"
      ]
     },
     "metadata": {},
     "output_type": "display_data"
    },
    {
     "data": {
      "text/plain": [
       "<Figure size 684x288 with 0 Axes>"
      ]
     },
     "metadata": {},
     "output_type": "display_data"
    },
    {
     "data": {
      "text/plain": [
       "<Figure size 684x288 with 0 Axes>"
      ]
     },
     "metadata": {},
     "output_type": "display_data"
    },
    {
     "data": {
      "text/plain": [
       "<Figure size 684x288 with 0 Axes>"
      ]
     },
     "metadata": {},
     "output_type": "display_data"
    },
    {
     "data": {
      "text/plain": [
       "<Figure size 684x288 with 0 Axes>"
      ]
     },
     "metadata": {},
     "output_type": "display_data"
    },
    {
     "data": {
      "text/plain": [
       "<Figure size 684x288 with 0 Axes>"
      ]
     },
     "metadata": {},
     "output_type": "display_data"
    },
    {
     "data": {
      "text/plain": [
       "<Figure size 684x288 with 0 Axes>"
      ]
     },
     "metadata": {},
     "output_type": "display_data"
    },
    {
     "data": {
      "text/plain": [
       "<Figure size 684x288 with 0 Axes>"
      ]
     },
     "metadata": {},
     "output_type": "display_data"
    },
    {
     "data": {
      "text/plain": [
       "<Figure size 684x288 with 0 Axes>"
      ]
     },
     "metadata": {},
     "output_type": "display_data"
    },
    {
     "data": {
      "text/plain": [
       "<Figure size 684x288 with 0 Axes>"
      ]
     },
     "metadata": {},
     "output_type": "display_data"
    },
    {
     "data": {
      "text/plain": [
       "<Figure size 684x288 with 0 Axes>"
      ]
     },
     "metadata": {},
     "output_type": "display_data"
    },
    {
     "data": {
      "text/plain": [
       "<Figure size 684x288 with 0 Axes>"
      ]
     },
     "metadata": {},
     "output_type": "display_data"
    },
    {
     "data": {
      "text/plain": [
       "<Figure size 684x288 with 0 Axes>"
      ]
     },
     "metadata": {},
     "output_type": "display_data"
    },
    {
     "data": {
      "text/plain": [
       "<Figure size 684x288 with 0 Axes>"
      ]
     },
     "metadata": {},
     "output_type": "display_data"
    },
    {
     "data": {
      "text/plain": [
       "<Figure size 684x288 with 0 Axes>"
      ]
     },
     "metadata": {},
     "output_type": "display_data"
    },
    {
     "data": {
      "text/plain": [
       "<Figure size 684x288 with 0 Axes>"
      ]
     },
     "metadata": {},
     "output_type": "display_data"
    },
    {
     "data": {
      "text/plain": [
       "<Figure size 684x288 with 0 Axes>"
      ]
     },
     "metadata": {},
     "output_type": "display_data"
    },
    {
     "data": {
      "text/plain": [
       "<Figure size 684x288 with 0 Axes>"
      ]
     },
     "metadata": {},
     "output_type": "display_data"
    },
    {
     "data": {
      "text/plain": [
       "<Figure size 684x288 with 0 Axes>"
      ]
     },
     "metadata": {},
     "output_type": "display_data"
    },
    {
     "data": {
      "text/plain": [
       "<Figure size 684x288 with 0 Axes>"
      ]
     },
     "metadata": {},
     "output_type": "display_data"
    },
    {
     "data": {
      "text/plain": [
       "<Figure size 684x288 with 0 Axes>"
      ]
     },
     "metadata": {},
     "output_type": "display_data"
    },
    {
     "data": {
      "text/plain": [
       "<Figure size 684x288 with 0 Axes>"
      ]
     },
     "metadata": {},
     "output_type": "display_data"
    },
    {
     "data": {
      "text/plain": [
       "<Figure size 684x288 with 0 Axes>"
      ]
     },
     "metadata": {},
     "output_type": "display_data"
    },
    {
     "data": {
      "text/plain": [
       "<Figure size 684x288 with 0 Axes>"
      ]
     },
     "metadata": {},
     "output_type": "display_data"
    },
    {
     "data": {
      "text/plain": [
       "<Figure size 684x288 with 0 Axes>"
      ]
     },
     "metadata": {},
     "output_type": "display_data"
    },
    {
     "data": {
      "text/plain": [
       "<Figure size 684x288 with 0 Axes>"
      ]
     },
     "metadata": {},
     "output_type": "display_data"
    },
    {
     "data": {
      "text/plain": [
       "<Figure size 684x288 with 0 Axes>"
      ]
     },
     "metadata": {},
     "output_type": "display_data"
    },
    {
     "data": {
      "text/plain": [
       "<Figure size 684x288 with 0 Axes>"
      ]
     },
     "metadata": {},
     "output_type": "display_data"
    },
    {
     "data": {
      "text/plain": [
       "<Figure size 684x288 with 0 Axes>"
      ]
     },
     "metadata": {},
     "output_type": "display_data"
    },
    {
     "data": {
      "text/plain": [
       "<Figure size 684x288 with 0 Axes>"
      ]
     },
     "metadata": {},
     "output_type": "display_data"
    },
    {
     "data": {
      "text/plain": [
       "<Figure size 684x288 with 0 Axes>"
      ]
     },
     "metadata": {},
     "output_type": "display_data"
    },
    {
     "data": {
      "text/plain": [
       "<Figure size 684x288 with 0 Axes>"
      ]
     },
     "metadata": {},
     "output_type": "display_data"
    },
    {
     "data": {
      "text/plain": [
       "<Figure size 684x288 with 0 Axes>"
      ]
     },
     "metadata": {},
     "output_type": "display_data"
    },
    {
     "data": {
      "text/plain": [
       "<Figure size 684x288 with 0 Axes>"
      ]
     },
     "metadata": {},
     "output_type": "display_data"
    },
    {
     "data": {
      "text/plain": [
       "<Figure size 684x288 with 0 Axes>"
      ]
     },
     "metadata": {},
     "output_type": "display_data"
    },
    {
     "data": {
      "text/plain": [
       "<Figure size 684x288 with 0 Axes>"
      ]
     },
     "metadata": {},
     "output_type": "display_data"
    },
    {
     "data": {
      "text/plain": [
       "<Figure size 684x288 with 0 Axes>"
      ]
     },
     "metadata": {},
     "output_type": "display_data"
    },
    {
     "data": {
      "text/plain": [
       "<Figure size 684x288 with 0 Axes>"
      ]
     },
     "metadata": {},
     "output_type": "display_data"
    },
    {
     "data": {
      "text/plain": [
       "<Figure size 684x288 with 0 Axes>"
      ]
     },
     "metadata": {},
     "output_type": "display_data"
    },
    {
     "data": {
      "text/plain": [
       "<Figure size 684x288 with 0 Axes>"
      ]
     },
     "metadata": {},
     "output_type": "display_data"
    },
    {
     "data": {
      "text/plain": [
       "<Figure size 684x288 with 0 Axes>"
      ]
     },
     "metadata": {},
     "output_type": "display_data"
    },
    {
     "data": {
      "text/plain": [
       "<Figure size 684x288 with 0 Axes>"
      ]
     },
     "metadata": {},
     "output_type": "display_data"
    },
    {
     "data": {
      "text/plain": [
       "<Figure size 684x288 with 0 Axes>"
      ]
     },
     "metadata": {},
     "output_type": "display_data"
    },
    {
     "data": {
      "text/plain": [
       "<Figure size 684x288 with 0 Axes>"
      ]
     },
     "metadata": {},
     "output_type": "display_data"
    },
    {
     "data": {
      "text/plain": [
       "<Figure size 684x288 with 0 Axes>"
      ]
     },
     "metadata": {},
     "output_type": "display_data"
    },
    {
     "data": {
      "text/plain": [
       "<Figure size 684x288 with 0 Axes>"
      ]
     },
     "metadata": {},
     "output_type": "display_data"
    }
   ],
   "source": [
    "### normalised excess reponse table \n",
    "\n",
    "par1 = 'gval'\n",
    "par2 = 'flux'\n",
    "\n",
    "excess = pd.DataFrame({\n",
    "                'csd': [],\n",
    "                'winning_Nx': [],\n",
    "                'winning_Ny': [],\n",
    "                'excess_'+par1:[], \n",
    "                'excess_'+par2:[],\n",
    "\n",
    "}, index=[])\n",
    "\n",
    "\n",
    "\n",
    "PS_stats_dir = save_directory + 'sum_tables/PS_stats.csv'\n",
    "sum_table_dir = save_directory + 'sum_tables/sum_table.csv'\n",
    "sum_table = pd.read_csv(sum_table_dir)\n",
    "PS_stats = pd.read_csv(PS_stats_dir)\n",
    "        \n",
    "a=0\n",
    "for obsv in tqdm(id_set):\n",
    "    \n",
    "    #file = (base_directory + 'sum_tables/'+str(obsv)+'_summary.pdf')\n",
    "    file = (som_directory +str(obsv)+'_'+str(som_size)+'x'+str(som_size)+'SOMs.csv')\n",
    "    \n",
    "    if os.path.exists(file):\n",
    "        fig, ax = plt.subplots(1, 2, figsize=(9.5, 4))\n",
    "        img1 = np.zeros(som_size*som_size).reshape((som_size, som_size))\n",
    "        img2 = np.zeros(som_size*som_size).reshape((som_size, som_size))\n",
    "\n",
    "        for nx in range(0,som_size):\n",
    "            for ny in range(0,som_size):\n",
    "                #print(nx, ny)\n",
    "                directory = save_directory + 'excess_tables/'\n",
    "                os.makedirs(directory, exist_ok=True)\n",
    "                # iterate over files in\n",
    "                # that directory\n",
    "                excess1 = calculate_normalised_excess(obsv, sum_table, PS_stats, par1, nx, ny)\n",
    "                excess2 = calculate_normalised_excess(obsv, sum_table, PS_stats, par2, nx, ny)\n",
    "\n",
    "                tmp = pd.DataFrame({\n",
    "                    'csd': obsv,\n",
    "                    'winning_Nx': nx,\n",
    "                    'winning_Ny': ny,\n",
    "                    'excess_'+par1: excess1, \n",
    "                    'excess_'+par2: excess2,\n",
    "                },\n",
    "                index=[a])\n",
    "                a = a+1\n",
    "                #print(a, summ, avgg, stdd, excess1)\n",
    "\n",
    "                img1[9-nx,ny] = excess1\n",
    "                img2[9-nx,ny] = excess2\n",
    "\n",
    "                excess = pd.concat([excess, tmp], ignore_index=True) \n",
    "\n",
    "        im1 = ax[0].imshow(img1, extent=[0,som_size,0,som_size], vmax = 3, vmin = -3, cmap='RdBu_r')\n",
    "        im2 = ax[1].imshow(img2, extent=[0,som_size,0,som_size], vmax = 3, vmin = -3, cmap='RdBu_r')\n",
    "\n",
    "        ax[0].set_xlabel('Neuron_x')\n",
    "        ax[0].set_ylabel('Neuron_y')\n",
    "        ax[0].set_title(par1)\n",
    "        cbar1 = plt.colorbar(im1, ax=ax[0])\n",
    "        cbar1.set_label('normalised excess')\n",
    "\n",
    "        ax[1].set_xlabel('Neuron_x')\n",
    "        ax[1].set_ylabel('Neuron_y')\n",
    "        ax[1].set_title(par2)\n",
    "        cbar2 = plt.colorbar(im2, ax=ax[1])\n",
    "        cbar2.set_label('normalised excess')\n",
    "        fig.suptitle('csd'+str(obsv))\n",
    "        fig.subplots_adjust(left=0.08, bottom=0.13, right=0.95, top=0.9, wspace=0.26, hspace=0.1)\n",
    "\n",
    "        fig.savefig(directory +'csd'+str(obsv)+'_normalised_excess.pdf')\n",
    "        fig.clf()\n",
    "    else:\n",
    "        continue\n",
    "excess.to_csv(directory+'excess.csv') "
   ]
  },
  {
   "cell_type": "code",
   "execution_count": 5,
   "id": "586c73ca-f4af-48b9-9248-50178c3c6daa",
   "metadata": {},
   "outputs": [],
   "source": [
    "\n",
    "def filter_SOM(obsv, somsize, nx, ny, training_no=training_no, revision=revision):\n",
    "\n",
    "    filename = '/project/rpp-chime/hgan/ML-analysis/delaysp/'+revision+'/'+str(obsv)\n",
    "    somfile = '../../ML-analysis_rev07/'+training_no+'/SOMs/'+revision+'/'+str(obsv)+'_'+str(somsize)+'x'+str(somsize)+'SOMs.csv'\n",
    "    outdir = '/project/rpp-chime/hgan/ML-analysis_rev07/'+training_no+'/filtered/'+str(obsv)\n",
    "    os.makedirs(outdir, exist_ok=True)\n",
    "    outname = outdir + '/csd'+str(obsv)+'_filtered_'+str(nx)+','+str(ny)\n",
    "    command1 = 'cd /project/rpp-chime/hgan/ML-analysis/software/disccofan-master/disccofan-SOM'\n",
    "\n",
    "    command2 = './disccofan -g 1,1,1 --threads 1  -c 8  -a 12 \\\n",
    "    --inprefix %s --intype fits -o som --somsize %d --somfile %s --somneuron %d,%d \\\n",
    "    --outprefix %s --outtype fits'%(filename, somsize, somfile, nx, ny, outname)\n",
    "    try: \n",
    "        #print(command2)\n",
    "        os.system(command1+\" && \"+command2)\n",
    "\n",
    "    except:\n",
    "        print(\"something is wrong.....!!\")"
   ]
  },
  {
   "cell_type": "code",
   "execution_count": 6,
   "id": "457027e5-89c6-4cb4-8948-0573ea7c5568",
   "metadata": {},
   "outputs": [],
   "source": [
    "excess_table = pd.read_csv(save_directory+'/excess_tables/excess.csv',\n",
    "                           sep=',', header=0, low_memory=False)\n",
    "\n",
    "def find_excess_neurons(excess_table, par, nsig, obsv, somsize, training_no=training_no):\n",
    "    par_mask = np.abs(excess_table['excess_'+par]) >= nsig\n",
    "    nsigma_par = excess_table[par_mask].mask(np.isinf).dropna()\n",
    "    obs_excess = nsigma_par[nsigma_par['csd'] == obsv]\n",
    "    if obs_excess.empty :\n",
    "        print(\"no excess reponse\")\n",
    "    else:\n",
    "        obs_excess = obs_excess.reset_index()  # make sure indexes pair with number of rows\n",
    "        for index, row in obs_excess.iterrows():\n",
    "            nx = int(row['winning_Nx'])\n",
    "            ny = int(row['winning_Ny'])\n",
    "            print(\"filtering....csd\"+str(obsv)+' ('+str(nx)+','+str(ny)+')')\n",
    "            filter_SOM(obsv, somsize, nx, ny, training_no)\n",
    "\n",
    "            \n",
    "def plot_excess_neurons(excess_table, par, nsig, obsv, somsize, training_no=training_no):\n",
    "    par_mask = np.abs(excess_table['excess_'+par]) >= nsig\n",
    "    nsigma_par = excess_table[par_mask].mask(np.isinf).dropna()\n",
    "    obs_excess = nsigma_par[nsigma_par['csd'] == obsv]\n",
    "    base_directory = save_directory\n",
    "\n",
    "    if obs_excess.empty :\n",
    "        print(\"no excess reponse\")\n",
    "    else:\n",
    "        obs_excess = obs_excess.reset_index()  # make sure indexes pair with number of rows\n",
    "        num_figs = len(obs_excess) + 1\n",
    "        \n",
    "        n_column = 3\n",
    "        n_yaxis = num_figs//n_column + 1\n",
    "        \n",
    "        width = 5\n",
    "        height = 2.5\n",
    "        fig, axes = plt.subplots(n_yaxis, n_column, figsize=(width*n_column, height*n_yaxis), \n",
    "                                 sharex=True, sharey=True)      \n",
    "        kwargs = {\"extent\": (0, 1700, -1.28, 1.28), \"vmin\": -8, \"vmax\": 0, \n",
    "                  \"aspect\": \"auto\", \"interpolation\": \"nearest\", \"cmap\": 'inferno'}\n",
    "        ori_ps = '/project/rpp-chime/hgan/ML-analysis/delaysp/'+revision+'/'+str(obsv)+'.fits'\n",
    "        print(ori_ps)\n",
    "        header = fits.open(ori_ps)\n",
    "        image = header[0].data\n",
    "        \n",
    "        try:\n",
    "            im = axes[0,0].imshow(image, **kwargs)\n",
    "            axes[0,0].set_title('delay spectrum csd'+str(obsv))\n",
    "        except:\n",
    "            im = axes[0].imshow(image, **kwargs)\n",
    "            axes[0].set_title('delay spectrum csd'+str(obsv))\n",
    "        aa = 1 \n",
    "        \n",
    "        for index, row in obs_excess.iterrows():\n",
    "            print(index)\n",
    "            nx = int(row['winning_Nx'])\n",
    "            ny = int(row['winning_Ny'])\n",
    "            \n",
    "            outdir = save_directory + 'filtered/'+str(obsv)\n",
    "            filtered_ps = outdir + '/csd'+str(obsv)+'_filtered_'+str(nx)+','+str(ny)+'.fits'\n",
    "    \n",
    "            header = fits.open(filtered_ps)\n",
    "            image = header[0].data\n",
    "            #img_masked = np.ma.masked_where( np.abs(image)== 0, image)\n",
    "\n",
    "            \n",
    "            x_i = aa//n_column\n",
    "            y_i = aa%n_column\n",
    "            \n",
    "            try:\n",
    "                im = axes[x_i,y_i].imshow(image, **kwargs) #gxhat[0, :, :], aspect=\"auto\", interpolation=\"nearest\", vmin=0.5, vmax=1.5) \n",
    "                axes[x_i,y_i].set_title('neuron ('+str(nx)+','+str(ny)+') filtered')#\"CSD\"+str(obsv)+', '+str(csd_to_datetime(obsv)), \n",
    "                                        #x=.5, y=.99, fontsize=12, color=\"black\")\n",
    "                if y_i== n_column-1:\n",
    "                    fig.colorbar(im, ax=axes[x_i,y_i])\n",
    "            except:\n",
    "                im = axes[y_i].imshow(image, **kwargs) #gxhat[0, :, :], aspect=\"auto\", interpolation=\"nearest\", vmin=0.5, vmax=1.5) \n",
    "                axes[y_i].set_title('neuron ('+str(nx)+','+str(ny)+') filtered')#\"CSD\"+str(obsv)+', '+str(csd_to_datetime(obsv)), \n",
    "                                        #x=.5, y=.99, fontsize=12, color=\"black\")\n",
    "                if y_i== n_column-1:\n",
    "                    fig.colorbar(im, ax=axes[y_i])                \n",
    "            #print(\".....\"+str(round(i/no_figs*100))+\"%......\")\n",
    "            aa = aa+1\n",
    "        fig.subplots_adjust(right=0.92, left=0.12, wspace=0.1, hspace=0.15, top=0.87, bottom=0.15)\n",
    "        #cbar_ax = fig.add_axes([0.90, 0.15, 0.02, 0.7])\n",
    "        #fig.colorbar(im, cax=cbproj_dir)\n",
    "        os.makedirs(save_directory+'excess_filtered/', exist_ok=True)\n",
    "        fig.savefig(save_directory+'excess_filtered/'+str(obsv)+'_'+par+'.pdf')\n",
    "        fig.clf()\n"
   ]
  },
  {
   "cell_type": "code",
   "execution_count": 7,
   "id": "67df78fc-f9d2-4cad-90c7-90a134cb140f",
   "metadata": {},
   "outputs": [],
   "source": [
    "def find_good_data(id_set, excess_table, par, nsig, somsize):\n",
    "    good_nights=[]\n",
    "    bad_nights=[]\n",
    "    no_excess=[]\n",
    "    for obsv in tqdm(id_set): \n",
    "        par_mask = np.abs(excess_table['excess_'+par]) >= nsig\n",
    "        nsigma_par = excess_table[par_mask].mask(np.isinf).dropna()\n",
    "        obs_excess = nsigma_par[nsigma_par['csd'] == obsv]\n",
    "        if obs_excess.empty :\n",
    "            good_nights.append(obsv)\n",
    "        else:\n",
    "            obs_excess = obs_excess.reset_index()  # make sure indexes pair with number of rows\n",
    "            if len(obs_excess.index) < 5:\n",
    "                good_nights.append(obsv)\n",
    "            else:\n",
    "                bad_nights.append(obsv) \n",
    "                no_excess.append(len(obs_excess.index))                \n",
    "    return good_nights, bad_nights, no_excess\n",
    "\n",
    "def find_a_neuron(id_set, excess_table, par, nsig, somsize, nx, ny):\n",
    "    excess_par = []\n",
    "    xxmask = excess_table['winning_Nx'] == nx\n",
    "    yymask = excess_table['winning_Ny'] == ny\n",
    "    par_mask = np.abs(excess_table['excess_'+par]) >= nsig\n",
    "    nsigma_par = excess_table[par_mask&xxmask&yymask].mask(np.isinf).dropna()\n",
    "    selected = nsigma_par['csd'].astype(int)\n",
    "    excess_par = np.array(excess_table['excess_'+par])\n",
    "    \n",
    "    return np.array(selected), excess_par"
   ]
  },
  {
   "cell_type": "code",
   "execution_count": 8,
   "id": "57f7e6dd-4dcd-4465-86f7-b2f2ea9049b4",
   "metadata": {},
   "outputs": [],
   "source": [
    "def plot_nights(sub_set, excess, opt, revision=revision ):\n",
    "    size = len(sub_set)\n",
    "    n_x = 5\n",
    "    n_y = 11\n",
    "    nfigs = n_x * n_y\n",
    "    total_iter = round (size / nfigs +0.5)\n",
    "    base_directory = save_directory\n",
    "\n",
    "    daily_processing_path = Path(f\"/project/rpp-chime/chime/chime_processed/daily/{revision}/\")\n",
    "\n",
    "    def lscale(x):\n",
    "        x = np.abs(x)\n",
    "        return np.log10(x / x.max())\n",
    "\n",
    "    kwargs = {\"extent\": (0, 1700, -1.28, 1.28), \"vmin\": -12, \"vmax\": 0}\n",
    "\n",
    "    # for itera in range(0, total_iter) :\n",
    "    fig, axes = plt.subplots(n_y, n_x, figsize=(5*n_x, 3*n_y), \n",
    "                             sharex=True, sharey=True, gridspec_kw={\"wspace\": 0.01, \"hspace\": 0.01})\n",
    "    for ii, axis in enumerate(axes.ravel()):\n",
    "        #print(ii)\n",
    "        if ii < size :\n",
    "\n",
    "            ex = str(sub_set[ii]) \n",
    "            excess_val = excess[ii]\n",
    "            name = \"delayspectrum_lsd_\" + ex + \".h5\"\n",
    "\n",
    "            ds = containers.DelaySpectrum.from_file( daily_processing_path / ex / name)\n",
    "            axis.imshow( lscale(ds.spectrum[:].T), **kwargs)\n",
    "            axis.text(100, 1, f\"{ex}\", bbox=dict(facecolor=\"white\", edgecolor=None))\n",
    "            axis.text(420, 1, f\"{excess_val}\", color='white')\n",
    "\n",
    "        # else:\n",
    "        #     continue\n",
    "    fig.savefig(base_directory+ 'filtered_'+opt+'_delayspectra.pdf')\n",
    "    fig.clf()"
   ]
  },
  {
   "cell_type": "code",
   "execution_count": null,
   "id": "db6a0d65-2741-463c-bc00-e0828ef9ae6b",
   "metadata": {},
   "outputs": [],
   "source": []
  },
  {
   "cell_type": "code",
   "execution_count": 9,
   "id": "96d744fe-3cf3-46e7-8660-5b431de3609c",
   "metadata": {},
   "outputs": [],
   "source": [
    "def evaluate_nights(id_set, excess_table, par, somsize):\n",
    "    good_nights=[]\n",
    "    okay_nights=[]\n",
    "    bad_nights=[]\n",
    "    n_exc_good = []\n",
    "    n_exc_okay = []\n",
    "    n_exc_bad = []\n",
    "    for obsv in tqdm(id_set): \n",
    "        par_mask1 = (excess_table['excess_'+par]) >= 1.0\n",
    "        par_mask2 = (excess_table['excess_'+par]) >= 2.0\n",
    "        par_mask3 = (excess_table['excess_'+par]) >= 3.0\n",
    "        \n",
    "        nsigma1_par = excess_table[par_mask1].mask(np.isinf).dropna()\n",
    "        nsigma2_par = excess_table[par_mask2].mask(np.isinf).dropna()\n",
    "        nsigma3_par = excess_table[par_mask2].mask(np.isinf).dropna()\n",
    "        \n",
    "        obs_excess1 = nsigma1_par[nsigma1_par['csd'] == obsv]\n",
    "        obs_excess2 = nsigma2_par[nsigma2_par['csd'] == obsv]\n",
    "        obs_excess3 = nsigma3_par[nsigma3_par['csd'] == obsv]\n",
    "        \n",
    "        if len(obs_excess1.index) < 10 and len(obs_excess2.index) < 10 and len(obs_excess3.index) < 5:\n",
    "            good_nights.append(obsv)\n",
    "            n_exc_good.append(len(obs_excess1.index))\n",
    "        else:\n",
    "            obs_excess1 = obs_excess1.reset_index()  # make sure indexes pair with number of rows\n",
    "            if len(obs_excess1.index) < 15 and len(obs_excess2.index) < 15 and len(obs_excess3.index) < 5:\n",
    "                okay_nights.append(obsv)\n",
    "                n_exc_okay.append(len(obs_excess1.index))\n",
    "            else:\n",
    "                bad_nights.append(obsv) \n",
    "                n_exc_bad.append(len(obs_excess1.index))   \n",
    "                \n",
    "    return good_nights, okay_nights, bad_nights, n_exc_good, n_exc_okay, n_exc_bad"
   ]
  },
  {
   "cell_type": "code",
   "execution_count": 55,
   "id": "06870ea9-4cba-4070-80fa-b23ae6b2551e",
   "metadata": {},
   "outputs": [],
   "source": [
    "training_no = 'train1'\n",
    "excess_table = pd.read_csv(save_directory+'/excess_tables/excess.csv')"
   ]
  },
  {
   "cell_type": "code",
   "execution_count": 59,
   "id": "ae0dc76f-194b-4c68-a2cd-774bef4426b3",
   "metadata": {},
   "outputs": [
    {
     "data": {
      "application/vnd.jupyter.widget-view+json": {
       "model_id": "fe372403ed6f4757a029ec328217a561",
       "version_major": 2,
       "version_minor": 0
      },
      "text/plain": [
       "  0%|          | 0/335 [00:00<?, ?it/s]"
      ]
     },
     "metadata": {},
     "output_type": "display_data"
    }
   ],
   "source": [
    "all_set = id_set\n",
    "good, okay, bad, num_exc1, num_exc2, num_exc3 = evaluate_nights(all_set, excess_table, 'flux', 10)"
   ]
  },
  {
   "cell_type": "code",
   "execution_count": 60,
   "id": "ee12ef42-60b3-4c6a-b7b0-75c3a6ab31a2",
   "metadata": {},
   "outputs": [
    {
     "name": "stdout",
     "output_type": "stream",
     "text": [
      "[1868 1869 1870 1871 1872 1878 1879 1880 1889 1890 1893 1894 1907 1915\n",
      " 1917 1924 1926 1928 1931 1932 1933 1934 2012 2013 2029 2031 2032 2033\n",
      " 2039 2040 2041 2044 2046 2047 2060 2072 2073 2074 2075 2081 2084 2085\n",
      " 2086 2087 2093 2094 2095 2096 2097 2098 2099 2105 2106 2107 2108 2109\n",
      " 2111 2112 2115 2116 2118 2119 2120 2121 2122 2123 2126 2127 2132 2133\n",
      " 2134 2142 2143 2163 2164 2166 2167 2174 2175 2179 2180 2181 2182 2186\n",
      " 2193 2228 2473 2516 2522 2564 2788 2816 2823 2830 2837 2844 2851 2872\n",
      " 2914 3012 3145 3201 3229 3341 3348 3362 3369 3376 3516 3517 3518 3520\n",
      " 3521 3522 3523 3524 3527 3528 3530 3531]\n",
      "[7, 5, 6, 5, 4, 8, 6, 7, 7, 9, 7, 8, 9, 6, 8, 9, 7, 9, 7, 8, 4, 6, 9, 8, 9, 5, 6, 7, 8, 9, 5, 7, 6, 8, 4, 5, 7, 3, 7, 4, 6, 5, 6, 3, 6, 4, 8, 3, 4, 3, 5, 4, 5, 5, 5, 6, 4, 5, 8, 4, 8, 4, 6, 7, 4, 5, 6, 6, 6, 6, 6, 8, 7, 6, 6, 6, 5, 7, 6, 6, 6, 7, 7, 6, 7, 8, 8, 7, 8, 9, 7, 9, 5, 9, 7, 7, 6, 5, 9, 9, 9, 7, 9, 9, 7, 6, 5, 7, 7, 7, 9, 8, 8, 7, 7, 6, 7, 6, 4, 6]\n",
      "[1886 1892 1903 1904 1906 1909 1910 1912 1914 1916 1919 1920 1921 1922\n",
      " 1927 1929 1935 1936 1939 1955 1956 1959 1981 1982 1983 1984 1989 2059\n",
      " 2110 2207 2389 2452 2466 2501 2509 2515 2551 2557 2613 2641 2802 2809\n",
      " 2865 2879 2886 2907 2928 2963 3000 3001 3026 3159 3166 3173 3180 3194\n",
      " 3236 3250 3278 3285 3383 3519 3525 3526 3529]\n",
      "[11, 14, 12, 10, 12, 13, 12, 11, 14, 10, 14, 10, 11, 13, 10, 10, 11, 12, 13, 12, 14, 14, 12, 11, 11, 11, 11, 10, 12, 12, 14, 10, 10, 10, 10, 13, 12, 10, 12, 14, 12, 10, 12, 10, 12, 11, 13, 14, 13, 11, 13, 11, 12, 11, 11, 10, 11, 11, 11, 11, 13, 10, 10, 11, 11]\n",
      "[1874 1885 1899 1902 1908 1913 1918 1958 1960 1965 1966 1967 1969 1970\n",
      " 1971 1972 1974 1975 1976 1977 1978 1979 1980 1985 1988 1990 2030 2043\n",
      " 2045 2077 2079 2080 2135 2229 2242 2243 2249 2256 2257 2277 2278 2291\n",
      " 2292 2299 2305 2306 2320 2325 2347 2348 2354 2361 2375 2417 2424 2431\n",
      " 2438 2445 2480 2502 2543 2544 2550 2558 2578 2585 2592 2599 2606 2620\n",
      " 2627 2634 2648 2655 2662 2669 2676 2683 2697 2704 2711 2718 2725 2732\n",
      " 2739 2746 2753 2760 2767 2774 2781 2858 2893 2921 2935 2942 2949 2956\n",
      " 2970 2977 2984 2991 2998 3005 3019 3033 3040 3047 3054 3061 3068 3075\n",
      " 3082 3089 3096 3103 3110 3117 3124 3131 3138 3152 3215 3222 3243 3257\n",
      " 3264 3271 3292 3299 3306 3313 3320 3327 3334 3355 3390 3397 3404 3411\n",
      " 3418 3425 3432 3439 3446 3453 3460 3467 3474 3515]\n",
      "[7, 9, 16, 11, 13, 15, 12, 15, 17, 17, 19, 22, 18, 21, 15, 15, 15, 20, 16, 17, 13, 16, 15, 15, 16, 20, 14, 10, 9, 11, 12, 5, 13, 7, 21, 23, 17, 22, 18, 23, 20, 21, 17, 20, 20, 22, 32, 32, 22, 24, 19, 24, 25, 22, 26, 15, 19, 15, 22, 23, 21, 13, 38, 18, 15, 16, 15, 19, 19, 24, 22, 29, 17, 31, 28, 21, 28, 35, 30, 30, 34, 31, 26, 28, 28, 28, 24, 32, 23, 22, 20, 15, 18, 16, 17, 19, 18, 17, 28, 33, 24, 32, 23, 22, 15, 17, 21, 18, 18, 24, 22, 18, 21, 20, 22, 29, 19, 29, 23, 16, 18, 21, 14, 15, 9, 12, 13, 25, 14, 14, 11, 13, 10, 10, 9, 11, 14, 19, 16, 18, 17, 18, 19, 19, 17, 24, 26, 30, 28, 21]\n"
     ]
    }
   ],
   "source": [
    "print(np.array(good))\n",
    "print(num_exc1)\n",
    "print(np.array(okay))\n",
    "print(num_exc2)\n",
    "print(np.array(bad))\n",
    "print(num_exc3)"
   ]
  },
  {
   "cell_type": "code",
   "execution_count": 61,
   "id": "d422a80b-3950-4959-ae29-17f558080dda",
   "metadata": {},
   "outputs": [
    {
     "name": "stderr",
     "output_type": "stream",
     "text": [
      "/tmp/ipykernel_89846/2130590213.py:13: RuntimeWarning: divide by zero encountered in log10\n",
      "  return np.log10(x / x.max())\n",
      "/tmp/ipykernel_89846/2130590213.py:13: RuntimeWarning: divide by zero encountered in log10\n",
      "  return np.log10(x / x.max())\n",
      "/tmp/ipykernel_89846/2130590213.py:13: RuntimeWarning: divide by zero encountered in log10\n",
      "  return np.log10(x / x.max())\n"
     ]
    },
    {
     "data": {
      "text/plain": [
       "<Figure size 1800x2376 with 0 Axes>"
      ]
     },
     "metadata": {},
     "output_type": "display_data"
    },
    {
     "data": {
      "text/plain": [
       "<Figure size 1800x2376 with 0 Axes>"
      ]
     },
     "metadata": {},
     "output_type": "display_data"
    },
    {
     "data": {
      "text/plain": [
       "<Figure size 1800x2376 with 0 Axes>"
      ]
     },
     "metadata": {},
     "output_type": "display_data"
    }
   ],
   "source": [
    "plot_nights(good,  num_exc1,'good', )#training_no)\n",
    "plot_nights(okay, num_exc2, 'okay', )#training_no)\n",
    "plot_nights(bad, num_exc3, 'bad', )#training_no)"
   ]
  },
  {
   "cell_type": "code",
   "execution_count": 10,
   "id": "5bace9c4-1758-4de1-b094-23a0a5af69e3",
   "metadata": {},
   "outputs": [],
   "source": [
    "from chimedb import core\n",
    "from chimedb import dataflag as df\n",
    "from ch_util import ephemeris\n",
    "from ch_util import tools\n",
    "\n",
    "from caput import time as ctime\n",
    "from draco.core import containers\n",
    "from draco.analysis.beamform import icrs_to_cirs\n",
    "from ch_util import rfi\n",
    "from ch_pipeline.core import containers as ccontainers\n",
    "\n",
    "matplotlib.rc('figure', figsize=(9,6))\n",
    "matplotlib.rc('axes', edgecolor='k')\n",
    "matplotlib.rc('grid', color='k', linewidth=0.5, linestyle=':')\n",
    "matplotlib.rc('font', size=12)\n",
    "matplotlib.rc('image', aspect='auto', interpolation='nearest', cmap='inferno')"
   ]
  },
  {
   "cell_type": "code",
   "execution_count": 12,
   "id": "7dc85a48-2a23-430a-944f-5c87c554d0fc",
   "metadata": {},
   "outputs": [],
   "source": [
    "\n",
    "#csd = good_data[0]\n",
    "som_size=10\n",
    "cubes = []\n",
    "for csd in id_set:\n",
    "    par = 'flux'\n",
    "    img1 = np.zeros(som_size*som_size).reshape((som_size, som_size))\n",
    "    for nx in range(0,som_size):\n",
    "        for ny in range(0,som_size):\n",
    "            mask_csd = excess_table['csd'] == csd\n",
    "            mask_x = excess_table['winning_Nx'] == nx\n",
    "            mask_y = excess_table['winning_Ny'] == ny\n",
    "            img1[9-nx,ny] = excess_table[mask_csd&mask_x&mask_y]['excess_'+par].values[0]\n",
    "    cubes.append(img1)\n",
    "\n"
   ]
  },
  {
   "cell_type": "code",
   "execution_count": 13,
   "id": "46ed8b92-58f5-449c-92f6-aa905e9a6b8f",
   "metadata": {},
   "outputs": [],
   "source": [
    "imgs = []\n",
    "for csd in id_set:\n",
    "    par = 'flux'\n",
    "    img1 = np.zeros(som_size*som_size).reshape((som_size, som_size))\n",
    "    for nx in range(0,som_size):\n",
    "        for ny in range(0,som_size):\n",
    "            mask_csd = excess_table['csd'] == csd\n",
    "            mask_x = excess_table['winning_Nx'] == nx\n",
    "            mask_y = excess_table['winning_Ny'] == ny\n",
    "            img1[9-nx,ny] = excess_table[mask_csd&mask_x&mask_y]['excess_'+par].values[0]\n",
    "    imgs.append(img1)"
   ]
  },
  {
   "cell_type": "code",
   "execution_count": null,
   "id": "b1837b3d-f92f-484d-8ad2-2321f3586a3b",
   "metadata": {},
   "outputs": [],
   "source": [
    "size = len(id_set)\n",
    "n_x = 10\n",
    "n_y = 34\n",
    "nfigs = n_x * n_y\n",
    "total_iter = round (size / nfigs +0.5)\n",
    "\n",
    "kwargs = {\"extent\": (0,som_size,0,som_size), \"vmin\": -3, \"vmax\": 3, \"cmap\":'RdBu_r'}\n",
    "\n",
    "\n",
    "# for itera in range(0, total_iter) :\n",
    "fig, axes = plt.subplots(n_y, n_x, figsize=(1*n_x, 1.3*n_y), \n",
    "                         sharex=True, sharey=True, gridspec_kw={\"wspace\": 0.01, \"hspace\": 0.3})\n",
    "for ii, axis in enumerate(axes.ravel()):\n",
    "    #print(ii)\n",
    "    if ii < size :\n",
    "        ex = str(id_set[ii]) \n",
    "        name = \"csd\" + ex\n",
    "        axis.imshow(cubes[ii], **kwargs)\n",
    "        axis.set_title(name, fontsize=10)\n",
    "        #axis.text(100, 1, f\"{ex}\", bbox=dict(facecolor=\"white\", edgecolor=None))\n",
    "        #axis.text(420, 1, f\"{excess_val}\", color='white')"
   ]
  },
  {
   "cell_type": "code",
   "execution_count": null,
   "id": "cbd33399-b568-48fe-aa09-1f4f19d75b68",
   "metadata": {},
   "outputs": [],
   "source": []
  }
 ],
 "metadata": {
  "kernelspec": {
   "display_name": "ch-env",
   "language": "python",
   "name": "ch-env"
  },
  "language_info": {
   "codemirror_mode": {
    "name": "ipython",
    "version": 3
   },
   "file_extension": ".py",
   "mimetype": "text/x-python",
   "name": "python",
   "nbconvert_exporter": "python",
   "pygments_lexer": "ipython3",
   "version": "3.10.2"
  }
 },
 "nbformat": 4,
 "nbformat_minor": 5
}
